{
 "cells": [
  {
   "cell_type": "markdown",
   "metadata": {
    "id": "37nZbUCQK6zA"
   },
   "source": [
    "### Welcome to the third set of exercises\n",
    "\n",
    "**Answer/study the following questions using VS Code+Python and consulting the presentations seen in class.**"
   ]
  },
  {
   "cell_type": "markdown",
   "metadata": {
    "id": "PPpuu3Zerb66"
   },
   "source": [
    "**Question 1.1:** Study and run the following code. The program prompts the user to enter a number, if the number is equal to the magic number then it prints *You found it!*, in any other case, it continues to ask for input."
   ]
  },
  {
   "cell_type": "code",
   "execution_count": null,
   "metadata": {
    "colab": {
     "base_uri": "https://localhost:8080/"
    },
    "id": "wkKP8YomrcJY",
    "outputId": "be444f41-c832-435c-8482-02a8460e1022"
   },
   "outputs": [],
   "source": [
    "MAGICNUMBER = 13\n",
    "\n",
    "while (True):\n",
    "  anum = int(input(\"What is the magic number? \"))\n",
    "  \n",
    "  # here != means 'not equal', the opposite of ==\n",
    "  if anum != MAGICNUMBER:\n",
    "    print(\"No! Try again...\")\n",
    "    \n",
    "  else:\n",
    "    print(\"You found it!\")\n",
    "    break"
   ]
  },
  {
   "cell_type": "markdown",
   "metadata": {
    "id": "TmTcO33CsprL"
   },
   "source": [
    "**Question 1.2:** Study and run the following code. \n",
    "This program allows only 3 attempts. \n",
    "Since we know the max no. of attempts, we'll use a **for** loop."
   ]
  },
  {
   "cell_type": "markdown",
   "metadata": {
    "id": "ycmb53R1u5pZ"
   },
   "source": [
    "<img src='./imgs/mounts.png' width=\"50\" height=\"50\"> \n",
    "\n",
    "> This is a challenging task, so take your time."
   ]
  },
  {
   "cell_type": "code",
   "execution_count": null,
   "metadata": {
    "colab": {
     "base_uri": "https://localhost:8080/"
    },
    "id": "6FYIIHResqB9",
    "outputId": "f04abb2c-763f-4e79-c79f-79775bd39bd0"
   },
   "outputs": [],
   "source": [
    "MAGICNUMBER = 13\n",
    "\n",
    "ATTEMPTS = 3\n",
    "\n",
    "print(\"You have three efforts!\")\n",
    "\n",
    "# Note range starts from zero!\n",
    "for i in range(ATTEMPTS):\n",
    "    \n",
    "    # MOD: add +1 to print a more natural message\n",
    "    print(\"Attempt:\", i+1)\n",
    "    \n",
    "    anum = int(input(\"What is the magic number? \"))\n",
    "    \n",
    "    if anum != MAGICNUMBER:\n",
    "      \n",
    "      if i != ATTEMPTS-1:      # If there are still attempts available...\n",
    "        print(\"No! Try again...\")\n",
    "    \n",
    "      else:                 # If attempts are over...\n",
    "        print(\"No! You are out of attempts\")\n",
    "    \n",
    "    else:\n",
    "      print(\"You found it!\")\n",
    "      break"
   ]
  },
  {
   "cell_type": "markdown",
   "metadata": {
    "id": "FM5onNPWp80V"
   },
   "source": [
    "**Question 1.3:** Use a while loop to print numbers starting from 1 to 10.\n",
    "\n"
   ]
  },
  {
   "cell_type": "markdown",
   "metadata": {
    "id": "jMh4utuTq_Pk"
   },
   "source": [
    "<img src='./imgs/mounts.png' width=\"50\" height=\"50\"> \n",
    "\n",
    "> This is a challenging task, so take your time."
   ]
  },
  {
   "cell_type": "code",
   "execution_count": null,
   "metadata": {
    "colab": {
     "base_uri": "https://localhost:8080/"
    },
    "id": "OFB9l6dZp87K",
    "outputId": "ddffda12-bdbb-4a8a-984c-4ef31fea34ce"
   },
   "outputs": [],
   "source": [
    "counter = 1\n",
    "\n",
    "# Provide your solution here\n",
    "\n",
    "\n",
    "\n",
    "\n",
    "\n",
    "\n"
   ]
  },
  {
   "cell_type": "markdown",
   "metadata": {
    "id": "vBlt3VTTqb_3"
   },
   "source": [
    "**Question 2:** Study and run the following while loop. \n",
    "\n",
    "This script demonstrates the intended use of a while loop and of an else statement."
   ]
  },
  {
   "cell_type": "code",
   "execution_count": null,
   "metadata": {
    "id": "h1cKeWBGqcKF"
   },
   "outputs": [],
   "source": [
    "count = 0\n",
    "\n",
    "while count < 5:\n",
    "   print(count, \" is  less than 5\")\n",
    "   count = count + 1\n",
    "\n",
    "else:\n",
    "   print(count, \" is not less than 5\")"
   ]
  },
  {
   "cell_type": "markdown",
   "metadata": {
    "id": "t-Z5y6DTcagW"
   },
   "source": [
    "**Question 3:** Study and run the following while loop. Add a comment in every line. What this program prints?"
   ]
  },
  {
   "cell_type": "markdown",
   "metadata": {
    "id": "GiAeJatorLCo"
   },
   "source": [
    "<img src='./imgs/mounts.png' width=\"50\" height=\"50\"> \n",
    "\n",
    "> This is a challenging task, so take your time."
   ]
  },
  {
   "cell_type": "code",
   "execution_count": null,
   "metadata": {
    "id": "QqFFqMbGcavY"
   },
   "outputs": [],
   "source": [
    "alist = [1, 3, 4, 5, 7, 9] # We have a list...\n",
    "\n",
    "index = 0 # \n",
    "\n",
    "while(True): # \n",
    "    print(alist[index]) # \n",
    "    if index == len(alist)-1: # \n",
    "    # Note, the len(alist)=6, but remember we started the count from 0!\n",
    "        break # \n",
    "    index+=1 # \n"
   ]
  },
  {
   "cell_type": "markdown",
   "metadata": {
    "id": "H3ANuhW9LAa5"
   },
   "source": [
    "**Question 4:** Create a program to allow a user to enter numbers one after the other. \n",
    "\n",
    "After the user enters a number the program will print it. If the user enters zero (0) the program will exit."
   ]
  },
  {
   "cell_type": "code",
   "execution_count": null,
   "metadata": {
    "colab": {
     "base_uri": "https://localhost:8080/"
    },
    "id": "SS-I9I49K5wK",
    "outputId": "44bbe6b2-a175-4e1c-dd11-9308dae35f8e"
   },
   "outputs": [],
   "source": [
    "# Provide your solution here\n",
    "\n",
    "\n",
    "\n",
    "\n"
   ]
  },
  {
   "cell_type": "markdown",
   "metadata": {
    "id": "fXFVTrIeL1KD"
   },
   "source": [
    "**Question 5:** Create a program as previous question to allow a user to enter numbers one after the other. \n",
    "\n",
    "After the user enters a number the program will apppend the number to a list. \n",
    "\n",
    "If the user enters zero (0) the program will exit.  \n",
    "\n",
    "In the end, the program will print the list only once."
   ]
  },
  {
   "cell_type": "code",
   "execution_count": null,
   "metadata": {
    "colab": {
     "base_uri": "https://localhost:8080/"
    },
    "id": "yxkwT8TkL2nV",
    "outputId": "e0e4241f-4eaa-4fde-c12f-bf8758e27942"
   },
   "outputs": [],
   "source": [
    "#  Provide your solution here\n"
   ]
  },
  {
   "cell_type": "markdown",
   "metadata": {
    "id": "2zxV6nUrLD_Y"
   },
   "source": [
    "**Question 6:** Consider attempting this question at the end. \n",
    "\n",
    "Create a program to allow users to enter positive integer numbers one after the other. \n",
    "\n",
    "The program will print **yes** if the numbers are in ascending order, in any other case, it will print **no**, only once and at the end. \n",
    "\n",
    "When the user enters -1, the program will exit. \n",
    "\n",
    "This is  a high difficulty problem, that you might need to study the slides."
   ]
  },
  {
   "cell_type": "code",
   "execution_count": null,
   "metadata": {
    "colab": {
     "base_uri": "https://localhost:8080/"
    },
    "id": "tdZKvEUaMa8k",
    "outputId": "7abb5c1e-d01e-430a-a1bc-25daf2e047ad"
   },
   "outputs": [],
   "source": [
    "# Provide your solution here\n",
    "\n"
   ]
  },
  {
   "cell_type": "markdown",
   "metadata": {},
   "source": [
    "<img src='./imgs/bulb.png' width=\"50\" height=\"50\"> \n",
    "\n",
    "> This is a challenging task, so take your time."
   ]
  },
  {
   "cell_type": "markdown",
   "metadata": {
    "id": "H277XNKutlg7"
   },
   "source": [
    "Here we conclude our work on loops and the *while* instruction. \n",
    "\n",
    "As you noticed, it might be difficult to approach a problem and use while loops as we need always to control a 'base case' for termination.\n",
    "\n",
    "We do not use *while* loops so often, but it is another tools for us to develop programs that need to run until interrupted by the user or another process (e.g. a counter)."
   ]
  }
 ],
 "metadata": {
  "colab": {
   "collapsed_sections": [],
   "name": "Demystifying Comp Class 3 Questions.ipynb",
   "provenance": []
  },
  "kernelspec": {
   "display_name": "Python 3",
   "language": "python",
   "name": "python3"
  },
  "language_info": {
   "codemirror_mode": {
    "name": "ipython",
    "version": 3
   },
   "file_extension": ".py",
   "mimetype": "text/x-python",
   "name": "python",
   "nbconvert_exporter": "python",
   "pygments_lexer": "ipython3",
   "version": "3.12.6"
  }
 },
 "nbformat": 4,
 "nbformat_minor": 2
}
