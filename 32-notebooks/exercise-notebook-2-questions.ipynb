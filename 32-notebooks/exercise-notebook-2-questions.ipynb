{
  "cells": [
    {
      "cell_type": "markdown",
      "metadata": {
        "id": "37nZbUCQK6zA"
      },
      "source": [
        "### Welcome to the second set of exercises\n",
        "\n",
        "**Answer/study the following questions using VS Code+Python and consulting the presentations seen in class.**"
      ]
    },
    {
      "cell_type": "markdown",
      "metadata": {
        "id": "SWQLJ4iqm5Rw"
      },
      "source": [
        "**Question 1.1:** Study and run the following program. Try it using the following input values:\n",
        "\n",
        "\n",
        "* 65\n",
        "* 20\n"
      ]
    },
    {
      "cell_type": "code",
      "execution_count": null,
      "metadata": {
        "colab": {
          "base_uri": "https://localhost:8080/"
        },
        "id": "RH4nJciDm5iZ",
        "outputId": "bb4aeb01-ca0c-491e-b8ce-3641c4edb84f"
      },
      "outputs": [],
      "source": [
        "age = int(input(\"What's your age? \"))\n",
        "\n",
        "senior = False \n",
        "# Let's assume that a person is not a Senior\n",
        "\n",
        "ticket_price = 20 \n",
        "# So, the standard ticket cost is 20 GBP\n",
        "\n",
        "# First part of the program to set the senior boolean variable\n",
        "if(age > 60):\n",
        "  senior = True\n",
        "\n",
        "# More code could go here...\n",
        "\n",
        "# Second part of the program to check ticket cost for Seniors\n",
        "if(senior == True):\n",
        "  ticket_price = 10\n",
        "\n",
        "print(\"Ticket cost is:\", ticket_price)"
      ]
    },
    {
      "cell_type": "markdown",
      "metadata": {
        "id": "A8KwpJ8QySNH"
      },
      "source": [
        "<img src='./imgs/arrow.png' width=\"50\" height=\"50\">\n",
        "\n",
        "You can think the above program as multiple small code parts that we created to control the execution flow. \n",
        "\n",
        "We use **Booleans** to evaluate any expression in Python, and get one of two answers, **True** or **False**. \n",
        "\n",
        "Then we can check this condition, for example using an **if** statement in different code parts."
      ]
    },
    {
      "cell_type": "markdown",
      "metadata": {
        "id": "H3ANuhW9LAa5"
      },
      "source": [
        "**Question 1.2:** \n",
        "\n",
        "This questions was partly seen in class.\n",
        "\n",
        "Create a program to decide if you need to water the tomatoes in the greenhouse by using the following algorithm/specification.\n",
        "\n",
        "*   User to enter the current temperature\n",
        "*   The tomatoes are watered when the cover is on\n",
        "*   The cover will be on when temperature is below 16\n",
        "\n",
        "*Hint: Use boolean variables (True or False)*"
      ]
    },
    {
      "cell_type": "markdown",
      "metadata": {
        "id": "rzafqedQq2z3"
      },
      "source": [
        "##### Hint: \n",
        "\n",
        "At 15 degrees, tomatoes will be covered and you will water them\n",
        "\n",
        "at 20 degrees, tomatoes will be uncovered and we don't water them."
      ]
    },
    {
      "cell_type": "markdown",
      "metadata": {},
      "source": [
        "<img src='./imgs/mounts.png' width=\"50\" height=\"50\"> \n",
        "\n",
        "> This is a challenging task, so take your time."
      ]
    },
    {
      "cell_type": "code",
      "execution_count": null,
      "metadata": {
        "colab": {
          "base_uri": "https://localhost:8080/"
        },
        "id": "SS-I9I49K5wK",
        "outputId": "4b548006-bb42-4315-b201-032d71fda72f"
      },
      "outputs": [],
      "source": [
        "# Provide your solution here\n",
        "\n"
      ]
    },
    {
      "cell_type": "markdown",
      "metadata": {
        "id": "fXFVTrIeL1KD"
      },
      "source": [
        "**Question 2:** Create a program to print a list of your favorite novels.\n",
        "\n",
        "Print the items of the list, your solution should work for any list of books."
      ]
    },
    {
      "cell_type": "code",
      "execution_count": null,
      "metadata": {
        "colab": {
          "base_uri": "https://localhost:8080/"
        },
        "id": "yxkwT8TkL2nV",
        "outputId": "a60bc6d7-7a70-43c9-da6d-44ce2106a854"
      },
      "outputs": [],
      "source": [
        "# example list\n",
        "fav_novels = [\"Death in Venice\", \"The Spy Who Came in From the Cold\", \"The Elementary Particles\" ]\n",
        "\n",
        "# Provide your solution here\n"
      ]
    },
    {
      "cell_type": "markdown",
      "metadata": {
        "id": "2zxV6nUrLD_Y"
      },
      "source": [
        "**Question 3:** Create a list of numbers: 10, 23, 25, 28 and 30.\n",
        "\n",
        "Print the first 3 elements of the list using the index values."
      ]
    },
    {
      "cell_type": "markdown",
      "metadata": {
        "id": "rDVs9sxlzp16"
      },
      "source": [
        "<img src='./imgs/bulb.png' width=\"50\" height=\"50\"> \n",
        "\n",
        "You can have a look here for more details on **slicing**: https://www.w3schools.com/python/python_lists_access.asp"
      ]
    },
    {
      "cell_type": "code",
      "execution_count": null,
      "metadata": {
        "colab": {
          "base_uri": "https://localhost:8080/"
        },
        "id": "tdZKvEUaMa8k",
        "outputId": "44436536-5fda-4a28-da15-6d7bb01653ab"
      },
      "outputs": [],
      "source": [
        "mylist = [10, 23, 25, 28, 30]\n",
        "\n",
        "# Provide your solution here\n"
      ]
    },
    {
      "cell_type": "markdown",
      "metadata": {
        "id": "be8Fn25VMdin"
      },
      "source": [
        "**Question 4:** Write a program to create the following list of numbers: 10, 23, 25, 28 and 30.\n",
        "\n",
        "Print 23, 25 and 28 using the appropriate index values."
      ]
    },
    {
      "cell_type": "code",
      "execution_count": null,
      "metadata": {
        "colab": {
          "base_uri": "https://localhost:8080/"
        },
        "id": "d-ydq-SNM70F",
        "outputId": "7cb1cd77-22ff-48ba-ffe7-765bbb145a16"
      },
      "outputs": [],
      "source": [
        "mylist = [10, 23, 25, 28, 30]\n",
        "# Provide your solution here\n",
        "\n"
      ]
    },
    {
      "cell_type": "markdown",
      "metadata": {
        "id": "eYukGIUmNOHp"
      },
      "source": [
        "**Question 5:**  Again with ``mylist``, print the last two elements."
      ]
    },
    {
      "cell_type": "code",
      "execution_count": null,
      "metadata": {
        "colab": {
          "base_uri": "https://localhost:8080/"
        },
        "id": "j_YzwhZKNbq8",
        "outputId": "ee75a041-ba0c-4fc9-c2d6-4f707fa5c619"
      },
      "outputs": [],
      "source": [
        "mylist = [10, 23, 25, 28, 30]\n",
        "\n",
        "# Provide your solution here\n"
      ]
    },
    {
      "cell_type": "markdown",
      "metadata": {
        "id": "-UM1UBy3Ns8b"
      },
      "source": [
        "**Question 6.1:**  Print the first and the last elements of ``mylist``."
      ]
    },
    {
      "cell_type": "code",
      "execution_count": null,
      "metadata": {
        "colab": {
          "base_uri": "https://localhost:8080/"
        },
        "id": "GaLLJVpZOEqA",
        "outputId": "bfd1a7a1-4571-4e73-b252-46fcb4a2e6f0"
      },
      "outputs": [],
      "source": [
        "mylist = [10, 23, 25, 28, 30]\n",
        "\n",
        "# Provide your solution here\n",
        "\n"
      ]
    },
    {
      "cell_type": "markdown",
      "metadata": {
        "id": "kcixHXyIocL9"
      },
      "source": [
        "**Question 6.2:** Study and run the following code.\n",
        "\n",
        "\n",
        "<img src='./imgs/bulb.png' width=\"50\" height=\"50\"> \n",
        "\n",
        "Note how Python treats strings essentially as lists of characters."
      ]
    },
    {
      "cell_type": "code",
      "execution_count": null,
      "metadata": {
        "colab": {
          "base_uri": "https://localhost:8080/"
        },
        "id": "YxYjwDidpaWL",
        "outputId": "1a5f385b-0069-426c-d2b6-91c35457755a"
      },
      "outputs": [],
      "source": [
        "# A text is actually a list of characters\n",
        "atext = \"Michel Houllebecq\" \n",
        "\n",
        "print(atext)      # Yet, we represent it as text\n",
        "\n",
        "print(atext[0:2])\n",
        "\n",
        "# if you want to print it as a list, you just need to convert it\n",
        "\n",
        "charlist = []\n",
        "\n",
        "for char in atext:\n",
        "    print(char)\n",
        "    charlist.append(char)\n",
        "    \n",
        "alist = list(atext) # Make the text a list of characters\n",
        "\n",
        "print(charlist)        # Now, we can print it as a list\n",
        "\n",
        "print(charlist[0:2])"
      ]
    },
    {
      "cell_type": "code",
      "execution_count": null,
      "metadata": {},
      "outputs": [],
      "source": [
        "fav_authors = ['Michel Houllebecq', 'Thomas Mann', \"John LeCarre'\"]\n",
        "\n",
        "\n",
        "# print them with only the initial of the name:\n",
        "\n",
        "M. Houllebecq\n",
        "T. Mann\n",
        "J. LeCarre'\n",
        "\n",
        "# Next, with extra spaces:\n",
        "\n",
        "fav_authors2 = ['Michel Houllebecq', 'Thomas Mann', \"John Le Carre'\"]"
      ]
    },
    {
      "cell_type": "markdown",
      "metadata": {
        "id": "AkEu_auFxUjM"
      },
      "source": [
        "<img src='./imgs/arrow.png' width=\"50\" height=\"50\"> \n",
        "\n",
        "> There is no need to transform the text to list, as Python will treat it the same way. "
      ]
    },
    {
      "cell_type": "markdown",
      "metadata": {
        "id": "8xSU79DDpZ6n"
      },
      "source": [
        "**Question 6.3:** Print the first and the last letter of the name *Michel.*"
      ]
    },
    {
      "cell_type": "code",
      "execution_count": null,
      "metadata": {
        "colab": {
          "base_uri": "https://localhost:8080/"
        },
        "id": "KdjrW3DsocVD",
        "outputId": "d312f8d1-361b-4771-de59-b0251450fe05"
      },
      "outputs": [],
      "source": [
        "mytext = \"Michel\"\n",
        "\n",
        "# Provide your solution here\n"
      ]
    },
    {
      "cell_type": "markdown",
      "metadata": {
        "id": "pJOOGalwOP7m"
      },
      "source": [
        "**Question 7:** Write a program to search for an item of a list.\n",
        "*  Create following list of names *Juliet, John, Jack, Joy, Jim, Josh* and *Julia.* \n",
        "*   Prompt the user to enter for a name\n",
        "*   Search the list if the name is matched with the names of the list\n",
        "*   If there is a match, print *Found it*\n",
        "*   In any other case print *Not found*"
      ]
    },
    {
      "cell_type": "markdown",
      "metadata": {},
      "source": [
        "<img src='./imgs/bulb.png' width=\"50\" height=\"50\"> \n",
        "\n",
        "> Review the lecture slides for how to search an item in a list."
      ]
    },
    {
      "cell_type": "code",
      "execution_count": null,
      "metadata": {
        "id": "QfPSAHZHOS_-"
      },
      "outputs": [],
      "source": [
        "# Provide your solution here\n",
        "\n"
      ]
    },
    {
      "cell_type": "markdown",
      "metadata": {
        "id": "j-VdHAPoR_it"
      },
      "source": [
        "**Question 8:** Write a program as follows.\n",
        "\n",
        "*   Create the following list of names *Juliet, John, Jack, Joy, Jim, Josh, Julia*.\n",
        "*   Prompt the user to enter a name\n",
        "*   Search the list if the name exists\n",
        "*   If the name exists, print *Found it*\n",
        "*   In any other case print *Not found*\n",
        "*   Print the result only once at the end of the program"
      ]
    },
    {
      "cell_type": "markdown",
      "metadata": {},
      "source": [
        "<img src='./imgs/bulb.png' width=\"50\" height=\"50\"> \n",
        "\n",
        "> Review the lecture slides for how to use the boolean variables. \n",
        "> It is a good idea to use booleans when we need to keep memory if we entered in a conditional or not."
      ]
    },
    {
      "cell_type": "code",
      "execution_count": null,
      "metadata": {
        "colab": {
          "base_uri": "https://localhost:8080/"
        },
        "id": "MPGZUowER_p7",
        "outputId": "af30c26e-f1da-41ca-f290-dbe19816d543"
      },
      "outputs": [],
      "source": [
        "# Provide your solution here\n",
        "\n"
      ]
    },
    {
      "cell_type": "markdown",
      "metadata": {
        "id": "rpbPHa0apW6l"
      },
      "source": [
        "**Question 9.1:** Create a program to ask a user to enter two names (e.g. using two *input* statements one after the other). Then create a list to store these two names. Print the list.\n"
      ]
    },
    {
      "cell_type": "code",
      "execution_count": null,
      "metadata": {
        "colab": {
          "base_uri": "https://localhost:8080/"
        },
        "id": "Ffhz8OVOpXFa",
        "outputId": "5e4b8872-52d6-4961-ea81-31ab399fae76"
      },
      "outputs": [],
      "source": [
        "# Provide your solution here\n"
      ]
    },
    {
      "cell_type": "markdown",
      "metadata": {
        "id": "JjGGrHm9RAOU"
      },
      "source": [
        "**Question 9.2:** Create a program to ask a user to enter 5 numbers, one after the other. Then create a list out of these numbers. Print the list."
      ]
    },
    {
      "cell_type": "markdown",
      "metadata": {},
      "source": [
        "<img src='./imgs/bulb.png' width=\"50\" height=\"50\"> \n",
        "\n",
        "For more information on the *append* method please see the relative w3schools unit: \n",
        "https://www.w3schools.com/python/ref_list_append.asp\n",
        "\n",
        "> What if the user wants to add 100 numbers?"
      ]
    },
    {
      "cell_type": "code",
      "execution_count": null,
      "metadata": {
        "colab": {
          "base_uri": "https://localhost:8080/"
        },
        "id": "1OEu0gpXRAWW",
        "outputId": "e2ad1097-5f99-4ab4-f26c-29b6b3f05b7c"
      },
      "outputs": [],
      "source": [
        "# Provide your solution here\n",
        "\n"
      ]
    },
    {
      "cell_type": "markdown",
      "metadata": {
        "id": "FhOq9aDhSadL"
      },
      "source": [
        "**Question 10:** Create a program to store the following numbers 1, 2, 3, ..., 99, 100 in a list."
      ]
    },
    {
      "cell_type": "markdown",
      "metadata": {},
      "source": [
        "<img src='./imgs/bulb.png' width=\"50\" height=\"50\"> \n",
        "\n",
        "> You can use the *range* method, for more information review the following website.\n",
        "\n",
        "[https://www.w3schools.com/python/ref_func_range.asp]()"
      ]
    },
    {
      "cell_type": "code",
      "execution_count": null,
      "metadata": {
        "colab": {
          "base_uri": "https://localhost:8080/"
        },
        "id": "Kv6bRsU9Salx",
        "outputId": "50e7035d-a944-46f8-db5e-60d8e51f5286"
      },
      "outputs": [],
      "source": [
        "# Provide your solution here\n"
      ]
    },
    {
      "cell_type": "markdown",
      "metadata": {
        "id": "il1m9gTAqIKt"
      },
      "source": [
        "**Question 11-a:** Review the slides code on how to create a counter. \n",
        "\n",
        "What is wrong with the following program?\n"
      ]
    },
    {
      "cell_type": "code",
      "execution_count": null,
      "metadata": {
        "colab": {
          "base_uri": "https://localhost:8080/"
        },
        "id": "4EdTnmvBqoHt",
        "outputId": "1c260b72-8312-4adc-fa52-f572e2031de6"
      },
      "outputs": [],
      "source": [
        "alist = [1,3,4,6,2,9]\n",
        "\n",
        "for anumber in alist:\n",
        "    counter = counter + 1 # We should use counter, not count\n",
        "print(counter) # We should print the counter, the result variable is not defined"
      ]
    },
    {
      "cell_type": "markdown",
      "metadata": {},
      "source": []
    },
    {
      "cell_type": "markdown",
      "metadata": {},
      "source": []
    },
    {
      "cell_type": "markdown",
      "metadata": {
        "id": "-Zx1H_LjSvUU"
      },
      "source": [
        "**Question 11-b:** Create the following list of items: *chair, table, mouse, monitor, keyboard, pen* and *paper*. \n",
        "Then, count how many items are in the list and print the result.\n",
        "\n"
      ]
    },
    {
      "cell_type": "code",
      "execution_count": null,
      "metadata": {
        "colab": {
          "base_uri": "https://localhost:8080/"
        },
        "id": "OI7C-hAHSvbm",
        "outputId": "bdbf73ca-a113-4194-b154-7696bbed8369"
      },
      "outputs": [],
      "source": [
        "# Provide your solution here\n"
      ]
    },
    {
      "cell_type": "markdown",
      "metadata": {
        "id": "TUKsEXBIqg90"
      },
      "source": [
        "<img src='./imgs/question.png' width=\"50\" height=\"50\"> \n",
        "\n",
        "> Can you do it without using the **len** method?"
      ]
    },
    {
      "cell_type": "markdown",
      "metadata": {
        "id": "5SVL43aRTL3G"
      },
      "source": [
        "**Question 12:** Create the following list of items: *chair, table, chair, table, table, pen* and *paper*. \n",
        "\n",
        "Then, count how many *chairs* are in the list and print the result without using the `len()` function.\n"
      ]
    },
    {
      "cell_type": "code",
      "execution_count": null,
      "metadata": {
        "colab": {
          "base_uri": "https://localhost:8080/"
        },
        "id": "lFjpEI3zTMKC",
        "outputId": "793d125a-4f39-483c-e691-e6ad4f97ec51"
      },
      "outputs": [],
      "source": [
        "items = [\"chair\", \"table\", \"chair\", \"table\", \"table\", \"pen\", \"paper\"]\n",
        "\n",
        "# Provide your solution here\n",
        "\n"
      ]
    },
    {
      "cell_type": "markdown",
      "metadata": {
        "id": "3n7bTDCNihlM"
      },
      "source": [
        "**Question 13:** Work on ``items`` again to count how many *chairs* and how many *tables* are in the list. Print both the result.\n",
        "\n",
        "The output should look like this:\n",
        "*There are 2 chairs and 3 tables*\n",
        "\n"
      ]
    },
    {
      "cell_type": "code",
      "execution_count": null,
      "metadata": {
        "colab": {
          "base_uri": "https://localhost:8080/"
        },
        "id": "b6nVl3MJk6Gh",
        "outputId": "f8e917e7-1a01-43a5-accd-0c1d3b0ed326"
      },
      "outputs": [],
      "source": [
        "# Provide your solution here\n"
      ]
    },
    {
      "cell_type": "markdown",
      "metadata": {
        "id": "YyudIzQ0jVlc"
      },
      "source": [
        "**Question 14:** Write a program to create a list of fruits including *apple, banana, cherry, banana, pineapple*.\n",
        "\n",
        "Create an algorithm to search for a banana in the list and stop the algorithm if you find it. \n",
        "\n",
        "The algorithm should stop at the first instance of the *banana* in our list to save computational time. \n",
        "\n",
        "This means that we do not want to continue running the program if we have our result."
      ]
    },
    {
      "cell_type": "code",
      "execution_count": null,
      "metadata": {
        "colab": {
          "base_uri": "https://localhost:8080/"
        },
        "id": "7W_z0ELqihtr",
        "outputId": "f113fc5f-04f4-4109-9670-cf1765dc32cb"
      },
      "outputs": [],
      "source": [
        "# Provide your solution here\n"
      ]
    },
    {
      "cell_type": "markdown",
      "metadata": {
        "id": "_S0sQ_o_hjYL"
      },
      "source": [
        "**Question 15-a:** Study and run the following code, which checks for occurrence of a word in a text. \n",
        "\n",
        "In our case, we are looking for the value **Verona** in the prologue of Romeo and Juliet."
      ]
    },
    {
      "cell_type": "markdown",
      "metadata": {
        "id": "0FBxFKc-lO9v"
      },
      "source": [
        "<img src='./imgs/bulb.png' width=\"50\" height=\"50\"> \n",
        "\n",
        "> The **in** keyword is used to check if a value is present in a sequence (list, range, string etc.)."
      ]
    },
    {
      "cell_type": "code",
      "execution_count": null,
      "metadata": {
        "colab": {
          "base_uri": "https://localhost:8080/"
        },
        "id": "yeoOiscqhjm-",
        "outputId": "70ea3eb7-16c5-48d3-cf17-c2863990d160"
      },
      "outputs": [],
      "source": [
        "# \n",
        "# This is how to add a multiline text\n",
        "\n",
        "text = \"\"\"Two households, both alike in dignity, \n",
        "          In fair Verona, where we lay our scene, \n",
        "          From ancient grudge break to new mutiny, \n",
        "          Where civil blood makes civil hands unclean.\n",
        "       \"\"\"\n",
        "\n",
        "CITY = \"Verona\"\n"
      ]
    },
    {
      "cell_type": "markdown",
      "metadata": {
        "id": "rPFeUMh9jtq4"
      },
      "source": [
        "**Question 15-b:** Write a program to create the following list of words *car, cat, spot, talk, way, code*\n",
        "\n",
        "*   Search and print for the words starting with *ca*, such as *car, cat, ...*.\n",
        "\n",
        "*   In case that there are not results, print \"No results\"."
      ]
    },
    {
      "cell_type": "markdown",
      "metadata": {},
      "source": [
        "<img src='./imgs/bulb.png' width=\"50\" height=\"50\"> \n",
        "\n",
        "> Alternatively, you may take a string slicing approach to extract the first two letters of the words and make the comparison."
      ]
    },
    {
      "cell_type": "markdown",
      "metadata": {
        "id": "J6xCoCeFhd3F"
      },
      "source": [
        "<img src='./imgs/mounts.png' width=\"50\" height=\"50\"> \n",
        "\n",
        "> This is a challenging task, so take your time."
      ]
    },
    {
      "cell_type": "code",
      "execution_count": null,
      "metadata": {
        "colab": {
          "base_uri": "https://localhost:8080/"
        },
        "id": "B7q0ICVqjtz6",
        "outputId": "1356e608-bfab-4ee5-fbcc-0c6c3ff72613"
      },
      "outputs": [],
      "source": [
        "# Provide your solution here\n",
        "\n",
        "# There are many ways to approach this exercise.\n",
        "\n"
      ]
    },
    {
      "cell_type": "markdown",
      "metadata": {},
      "source": [
        "#### Only the brave:\n",
        "\n",
        "Can you solve it?\n",
        "\n",
        "We want to abbreviate a list of authors with dots '.' for the given names, as in this example:\n"
      ]
    },
    {
      "cell_type": "code",
      "execution_count": 5,
      "metadata": {},
      "outputs": [],
      "source": [
        "fav_authors = ['Michel Houllebecq', 'Thomas Mann', \"John LeCarre'\"]\n",
        "\n",
        "\n",
        "# print them with only the initial of the name:\n",
        "\n",
        "# M. Houllebecq\n",
        "# T. Mann\n",
        "# J. LeCarre'\n",
        "\n",
        "# Next, with extra spaces between two parts of the surname:\n",
        "\n",
        "fav_authors2 = ['Michel Houllebecq', 'Thomas Mann', \"John Le Carre'\"]"
      ]
    }
  ],
  "metadata": {
    "colab": {
      "collapsed_sections": [],
      "name": "Demystifying Comp Class 2 Questions.ipynb",
      "provenance": []
    },
    "kernelspec": {
      "display_name": "Python 3.10.7 64-bit",
      "language": "python",
      "name": "python3"
    },
    "language_info": {
      "codemirror_mode": {
        "name": "ipython",
        "version": 3
      },
      "file_extension": ".py",
      "mimetype": "text/x-python",
      "name": "python",
      "nbconvert_exporter": "python",
      "pygments_lexer": "ipython3",
      "version": "3.12.0"
    },
    "vscode": {
      "interpreter": {
        "hash": "369f2c481f4da34e4445cda3fffd2e751bd1c4d706f27375911949ba6bb62e1c"
      }
    }
  },
  "nbformat": 4,
  "nbformat_minor": 2
}
