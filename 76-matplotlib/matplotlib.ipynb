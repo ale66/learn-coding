{
 "cells": [
  {
   "cell_type": "markdown",
   "metadata": {
    "id": "btiDBwvBwZ9E"
   },
   "source": [
    "#### Getting started with matplotlib\n",
    "\n",
    "\n",
    "Install matplotlib on your computer with \n",
    "\n",
    "```bash\n",
    ">pip install matplotlib\n",
    "```\n",
    "\n",
    "Detailed instructions are at\n",
    "\n",
    "[matplotlib.org/stable/users/installing.html](\n",
    "https://matplotlib.org/stable/users/installing.html)\n",
    "\n"
   ]
  },
  {
   "cell_type": "markdown",
   "metadata": {},
   "source": [
    "#### About matplotlib\n",
    "\n",
    "* it is a Pyhton porting of Matlab functions; it covers essential *data visualisation*\n",
    "\n",
    "* displays are organised in layers, each one is the result of a single act of drawing\n",
    "\n",
    "* when all layers are drawn, the final image is shown with `plt.show()`\n"
   ]
  },
  {
   "cell_type": "code",
   "execution_count": null,
   "metadata": {
    "colab": {
     "base_uri": "https://localhost:8080/",
     "height": 265
    },
    "executionInfo": {
     "elapsed": 573,
     "status": "ok",
     "timestamp": 1634886478629,
     "user": {
      "displayName": "Alessandro Provetti",
      "photoUrl": "https://lh3.googleusercontent.com/a-/AOh14GjwxI7tpvAv_LnAV0fs_k6UBVWvqfkDLqhIQ2f95w=s64",
      "userId": "10173476788504798850"
     },
     "user_tz": -120
    },
    "id": "mfrtvc_PwD5m",
    "outputId": "ab0cfaca-e77e-40fd-f6b0-f0836f56483c"
   },
   "outputs": [],
   "source": [
    "\n",
    "import matplotlib.pyplot as plt\n",
    "\n",
    "my_xs = [2, 3, 4, 5, 5.5, 6, 7]\n",
    "\n",
    "my_ys = [1, 4, 9, 16, 25, 36, 37]\n",
    "\n",
    "upper_y = max(my_ys)\n",
    "\n",
    "plt.plot([1, 2, 3, 4, 4.5, 5], [1, 4, 9, 16, 25, 36], 'go')\n",
    "\n",
    "# legend: \n",
    "# X axis values, Y-axis values and color/shape of each point\n",
    "plt.plot(my_xs, my_ys, 'ro')\n",
    "\n",
    "\n",
    "# legend: \n",
    "# X axis dimensions then Y-axis dimensions\n",
    "plt.axis([1, 7, 0, upper_y + 10])\n",
    "\n",
    "plt.show()\n"
   ]
  }
 ],
 "metadata": {
  "colab": {
   "authorship_tag": "ABX9TyOBzwyZP2+fV0fVBHUAMjZC",
   "name": "bddm-2-c-bis-matplotlib.ipynb",
   "provenance": []
  },
  "kernelspec": {
   "display_name": "Python 3",
   "name": "python3"
  },
  "language_info": {
   "codemirror_mode": {
    "name": "ipython",
    "version": 3
   },
   "file_extension": ".py",
   "mimetype": "text/x-python",
   "name": "python",
   "nbconvert_exporter": "python",
   "pygments_lexer": "ipython3",
   "version": "3.11.6"
  }
 },
 "nbformat": 4,
 "nbformat_minor": 0
}
