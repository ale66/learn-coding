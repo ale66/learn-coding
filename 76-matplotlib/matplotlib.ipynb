{
 "cells": [
  {
   "cell_type": "markdown",
   "metadata": {
    "id": "btiDBwvBwZ9E"
   },
   "source": [
    "#### Getting started with matplotlib\n",
    "\n",
    "\n",
    "Install matplotlib on your computer with \n",
    "\n",
    "```bash\n",
    "pip install matplotlib\n",
    "```\n",
    "\n",
    "Detailed instructions are at\n",
    "\n",
    "[matplotlib.org/stable/users/installing.html](\n",
    "https://matplotlib.org/stable/users/installing.html)\n",
    "\n"
   ]
  },
  {
   "cell_type": "markdown",
   "metadata": {},
   "source": [
    "#### About matplotlib\n",
    "\n",
    "* it is a Pyhton porting of Matlab functions; it covers essential *data visualisation*\n",
    "\n",
    "* displays are organised in layers, each one is the result of a single act of drawing\n",
    "\n",
    "* there are 2 different ways of coding it: functional and object-oriented. The latter allows for more customisation as key features of a plot are objects that can be manipulated\n",
    "\n",
    "* when all layers are drawn, the final image is shown with `plt.show()`\n"
   ]
  },
  {
   "cell_type": "code",
   "execution_count": 1,
   "metadata": {},
   "outputs": [],
   "source": [
    "import matplotlib.pyplot as plt"
   ]
  },
  {
   "cell_type": "markdown",
   "metadata": {},
   "source": [
    "## Initial plot: the functional style"
   ]
  },
  {
   "cell_type": "code",
   "execution_count": null,
   "metadata": {},
   "outputs": [],
   "source": [
    "my_xs = [2, 3, 4, 5, 5.5, 6, 7]\n",
    "\n",
    "my_ys = [1, 4, 9, 16, 25, 36, 37]"
   ]
  },
  {
   "cell_type": "code",
   "execution_count": 10,
   "metadata": {},
   "outputs": [],
   "source": [
    "upper_y = max(my_ys)"
   ]
  },
  {
   "cell_type": "code",
   "execution_count": null,
   "metadata": {},
   "outputs": [],
   "source": [
    "# X axis values, Y-axis values and color/shape of each point\n",
    "plt.plot([1, 2, 3, 4, 4.5, 5], [1, 4, 9, 16, 25, 36], 'go') #green dots\n",
    "\n",
    "plt.plot(my_xs, my_ys, 'rd') # red diamonds\n",
    "\n",
    "\n",
    "# X axis dimensions then Y-axis dimensions, with a bit of space above\n",
    "plt.axis([0, 8, 0, upper_y + 10])\n",
    "\n",
    "#Title, labels,  legend\n",
    "plt.title('Functional style chart')\n",
    "plt.xlabel('some x')\n",
    "plt.ylabel('some y')\n",
    "plt.legend(['dots, diamonds'])\n",
    "plt.show()"
   ]
  },
  {
   "cell_type": "markdown",
   "metadata": {},
   "source": [
    "## The initial plot: Object-oriented Style"
   ]
  },
  {
   "cell_type": "markdown",
   "metadata": {},
   "source": [
    "##### In OOP style a *figure* is the whole image, as if it was the piece of paper on which you are drawing. \n",
    "\n",
    "\"Axes\" are the x and y delimitaion of your drawing. \n",
    "\n",
    "##### This framework is very useful as it allows to have multiple plots on the same chart "
   ]
  },
  {
   "cell_type": "code",
   "execution_count": null,
   "metadata": {},
   "outputs": [],
   "source": [
    "# Setting out the 'canvas' of our work\n",
    "# dpi indicates the level of resolution. \n",
    "# Professional publishing adopts at least 300 DPIs\n",
    "fig, ax = plt.subplots(figsize = (6, 4), dpi = 300) \n",
    "\n",
    "# replot the data above\n",
    "ax.scatter(my_xs, my_ys, c= 'r', marker = 'd')\n",
    "\n",
    "# plot some new data\n",
    "x_ar = [1, 2, 3, 4, 4.5, 5]\n",
    "\n",
    "y_ar = [1, 4, 9, 16, 25, 36]\n",
    "\n",
    "ax.scatter(x_ar, y_ar, c = 'g', marker = 'o')\n",
    "\n",
    "plt.title('OOP style')\n",
    "plt.xlabel('some x')\n",
    "plt.ylabel('some y')\n",
    "plt.legend(['dots, diamonds'])\n",
    "\n",
    "plt.show()"
   ]
  },
  {
   "cell_type": "markdown",
   "metadata": {},
   "source": [
    "##### If you do not specify a type of chart then `plt` will draw lines"
   ]
  },
  {
   "cell_type": "code",
   "execution_count": null,
   "metadata": {},
   "outputs": [],
   "source": [
    "#Setting out \"canvas\"\n",
    "#dpi indicates the level of resolution. Professinal publishing adopta at least 300 dpis\n",
    "fig, ax = plt.subplots(figsize = (6,4), dpi = 200) \n",
    "\n",
    "x_ar = [1, 2, 3, 4, 4.5, 5]\n",
    "y_ar = [1, 4, 9, 16, 25, 36]\n",
    "\n",
    "# notice how function `plot` is called with 3 arguments and then with 4\n",
    "ax.plot(my_xs, my_ys, c = 'r')\n",
    "\n",
    "ax.plot(x_ar, y_ar, '--', c = 'g') # dashed line\n",
    "\n",
    "plt.title('OOP style - line plots')\n",
    "plt.xlabel('some x')\n",
    "plt.ylabel('some y')\n",
    "plt.legend(['dots, diamonds'])\n",
    "\n",
    "\n",
    "plt.show()"
   ]
  },
  {
   "cell_type": "markdown",
   "metadata": {},
   "source": [
    "### Bar chart"
   ]
  },
  {
   "cell_type": "code",
   "execution_count": null,
   "metadata": {},
   "outputs": [],
   "source": [
    "# notice that, thanks to object orienteation, now we can have\n",
    "# two displays in the same figure\n",
    "\n",
    "fig,(ax1, ax2) = plt.subplots(nrows = 1, ncols = 2, figsize = (8, 4))\n",
    "\n",
    "ax1.bar(my_xs, my_ys)\n",
    "\n",
    "ax2.barh(my_xs, my_ys, color = 'r')\n",
    "\n",
    "fig.suptitle('Bar charts with subplots')\n",
    "\n",
    "ax1.set_title('Blues')\n",
    "\n",
    "ax2.set_title('Rotated bars')\n",
    "\n",
    "plt.show()"
   ]
  },
  {
   "cell_type": "markdown",
   "metadata": {},
   "source": [
    "\n",
    "\n",
    "#### Customisation\n",
    "\n",
    "As you can see from the summary below, the possibilities for customisation are endless\n",
    "\n",
    "Check out the blue circles and the respective definition below, each is a *object* that can be set up.\n",
    "\n",
    "Credit: [matplotlib.org](https://matplotlib.org)"
   ]
  },
  {
   "cell_type": "markdown",
   "metadata": {},
   "source": [
    "<img style=\"width: 80%\" src=\"imgs/matplotlib_elements.png\" />"
   ]
  },
  {
   "cell_type": "markdown",
   "metadata": {},
   "source": [
    "### Visualising datasets\n",
    "\n",
    "In this example we import data from the usual `biostats.csv` file to plot weight against age.\n",
    "\n",
    "Scatterplots are the simplest form of data visualisation: it may not be appropriate here\n",
    "\n",
    "Further details at [matplotlib.org/stable/plot_types/basic/scatter_plot.html](https://matplotlib.org/stable/plot_types/basic/scatter_plot.html)"
   ]
  },
  {
   "cell_type": "code",
   "execution_count": null,
   "metadata": {},
   "outputs": [],
   "source": [
    "import csv\n",
    "import matplotlib.pyplot as plt\n",
    "\n",
    "MYFILE = './data/biostats.csv'\n",
    "\n",
    "# change here to visualise different pairs\n",
    "HORIZONTAL = 'Age'\n",
    "\n",
    "VERTICAL = 'Weight(lbs)'\n",
    "\n",
    "\n",
    "with open(MYFILE, newline='', encoding=\"utf-8-sig\") as f:\n",
    "    my_reader = csv.DictReader(f)\n",
    "\n",
    "    x = []\n",
    "    y = []\n",
    "\n",
    "    # remember: dictReader it picking up strings only\n",
    "    for row in my_reader:\n",
    "        x.append(int(row[HORIZONTAL]))\n",
    "\n",
    "        y.append(int(row[VERTICAL]))\n",
    "\n",
    "# prepare the figure\n",
    "plt.figure(figsize = (10, 10))\n",
    "\n",
    "# the key command\n",
    "plt.plot(x, y, 'o')\n",
    "\n",
    "# set up the details\n",
    "plt.xlabel('Age')\n",
    "plt.ylabel('Weight')\n",
    "plt.title('Biostat Data')\n",
    "\n",
    "plt.show()"
   ]
  }
 ],
 "metadata": {
  "colab": {
   "authorship_tag": "ABX9TyOBzwyZP2+fV0fVBHUAMjZC",
   "name": "bddm-2-c-bis-matplotlib.ipynb",
   "provenance": []
  },
  "kernelspec": {
   "display_name": "Python 3",
   "language": "python",
   "name": "python3"
  },
  "language_info": {
   "codemirror_mode": {
    "name": "ipython",
    "version": 3
   },
   "file_extension": ".py",
   "mimetype": "text/x-python",
   "name": "python",
   "nbconvert_exporter": "python",
   "pygments_lexer": "ipython3",
   "version": "3.12.6"
  }
 },
 "nbformat": 4,
 "nbformat_minor": 0
}
