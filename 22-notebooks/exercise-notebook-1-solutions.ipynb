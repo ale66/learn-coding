{
  "cells": [
    {
      "cell_type": "markdown",
      "metadata": {
        "id": "37nZbUCQK6zA"
      },
      "source": [
        "#### Welcome to the first set of exercises.\n",
        "\n",
        "**Check your Python solutions against the model answers in the cells below; consult the slides seen in class for the syntax of Python instructions.**"
      ]
    },
    {
      "cell_type": "markdown",
      "metadata": {
        "id": "H3ANuhW9LAa5"
      },
      "source": [
        "**Question 1:** Create a code to print *Hello World!* on the screen."
      ]
    },
    {
      "cell_type": "code",
      "execution_count": null,
      "metadata": {
        "colab": {
          "base_uri": "https://localhost:8080/"
        },
        "id": "SS-I9I49K5wK",
        "outputId": "1312809f-2c5e-42b5-894a-8fcc640c87e0"
      },
      "outputs": [],
      "source": [
        "# Provide your solution here\n",
        "\n",
        "print(\"Hello World!\")"
      ]
    },
    {
      "cell_type": "markdown",
      "metadata": {
        "id": "l_PFVnGuqVUZ"
      },
      "source": [
        "**Question 2.1:** Study and run the following code, what does it print?"
      ]
    },
    {
      "cell_type": "code",
      "execution_count": null,
      "metadata": {
        "colab": {
          "base_uri": "https://localhost:8080/"
        },
        "id": "TPzCZeplqaZL",
        "outputId": "6a708a97-1957-4961-e945-1a48875d4b0f"
      },
      "outputs": [],
      "source": [
        "print(\"Hi\")\n",
        "print(\"There!\")\n",
        "\n",
        "# This will print:\n",
        "#   Hi\n",
        "#   There!\n",
        "# "
      ]
    },
    {
      "cell_type": "markdown",
      "metadata": {
        "id": "A2sx4DhBOswJ"
      },
      "source": [
        "<img src='./imgs/arrow.png' width=\"50\" height=\"50\"> \n",
        "> You can use multiple print statements."
      ]
    },
    {
      "cell_type": "markdown",
      "metadata": {
        "id": "fXFVTrIeL1KD"
      },
      "source": [
        "**Question 2.2:** Create a program to print the following:\n",
        "\n",
        "*Hello,*\n",
        "\n",
        "*I am learning Python!* \n",
        "\n",
        "You can use as many **print** statements as you like."
      ]
    },
    {
      "cell_type": "code",
      "execution_count": null,
      "metadata": {
        "colab": {
          "base_uri": "https://localhost:8080/"
        },
        "id": "yxkwT8TkL2nV",
        "outputId": "20d48e14-9fad-430e-c98e-d4d8c38b3455"
      },
      "outputs": [],
      "source": [
        "# Provide your solution here\n",
        "\n",
        "print(\"Hello,\")\n",
        "print(\"I am learning Python!\")"
      ]
    },
    {
      "cell_type": "markdown",
      "metadata": {
        "id": "DqlgYVB0qyKO"
      },
      "source": [
        "**Question 3.1:** Study and run the following program.\n",
        "\n",
        "What does this program do?"
      ]
    },
    {
      "cell_type": "code",
      "execution_count": null,
      "metadata": {
        "colab": {
          "base_uri": "https://localhost:8080/"
        },
        "id": "SmbTlXDoqyPx",
        "outputId": "64f864db-13fb-499b-ce32-e8c58a0f8cd2"
      },
      "outputs": [],
      "source": [
        "address = input(\"What is your address?\")\n",
        "print(address)\n",
        "\n",
        "# Did you notice the space after the questionmark?\n",
        "address = input(\"What is your address? \")\n",
        "print(address)\n",
        "\n",
        "# What does this program do?\n",
        "# Prompts the user to enter an address\n",
        "# Stores the address in a variable called address\n",
        "# Prints the address"
      ]
    },
    {
      "cell_type": "markdown",
      "metadata": {
        "id": "2zxV6nUrLD_Y"
      },
      "source": [
        "**Question 3.2:** Prompt the user to enter a name and then print it."
      ]
    },
    {
      "cell_type": "code",
      "execution_count": null,
      "metadata": {
        "colab": {
          "base_uri": "https://localhost:8080/"
        },
        "id": "tdZKvEUaMa8k",
        "outputId": "d8ad5758-3ab8-409e-8c08-7219ee15c5f9"
      },
      "outputs": [],
      "source": [
        "# Provide your solution here\n",
        "\n",
        "name = input(\"Input your name: \")\n",
        "print(name)"
      ]
    },
    {
      "cell_type": "markdown",
      "metadata": {
        "id": "PTyK7NXZSy1O"
      },
      "source": [
        "**Question 3.3:** Study and run the following code."
      ]
    },
    {
      "cell_type": "code",
      "execution_count": null,
      "metadata": {
        "colab": {
          "base_uri": "https://localhost:8080/"
        },
        "id": "pQpRZ7Y5Sy7_",
        "outputId": "dab452fe-03fc-4782-ff98-38626e1a6a0e"
      },
      "outputs": [],
      "source": [
        "# We can prompt the use to enter multiple values, one after the other\n",
        "\n",
        "fname = input(\"Input your firstname: \")\n",
        "sname = input(\"Input your surname: \")\n",
        "\n",
        "print(\"fname is: \", fname)\n",
        "print(\"sname is: \", sname)\n",
        "\n",
        "# Or \n",
        "\n",
        "# We seperate by text and variables by commas \n",
        "print(\"fname is: \", fname, \", sname is: \", sname, \".\")"
      ]
    },
    {
      "cell_type": "markdown",
      "metadata": {
        "id": "TCaPLDYWO6QF"
      },
      "source": [
        "<img src='./imgs/bulb.png' width=\"50\" height=\"50\"> \n",
        "\n",
        "You can use **comma (,)** or **plus(+)** to concatenate text. \n",
        "\n",
        "Be extra careful when using the **+** as we also use it for mathematic operations. \n",
        "\n",
        "We cannot use **+** to print text and numbers!\n"
      ]
    },
    {
      "cell_type": "markdown",
      "metadata": {
        "id": "4hg9hwxbP9If"
      },
      "source": [
        " **Question 3.4:** Study and run the following code. \n",
        " \n",
        " What is wrong with this code?\n",
        "\n",
        " Can you fix it?"
      ]
    },
    {
      "cell_type": "code",
      "execution_count": null,
      "metadata": {
        "colab": {
          "base_uri": "https://localhost:8080/",
          "height": 233
        },
        "id": "tZikevwzPc6P",
        "outputId": "db571827-cad1-42e2-a080-b83f002da1f0"
      },
      "outputs": [],
      "source": [
        "print(\"Hi\"+5)\n",
        "\n",
        "# You cannot print String and Integers using plus symbol!\n",
        "\n",
        "# print(\"Hi\"+str(5))"
      ]
    },
    {
      "cell_type": "markdown",
      "metadata": {
        "id": "be8Fn25VMdin"
      },
      "source": [
        "**Question 4:** Prompt the user to enter a city and then a country, one after the other.\n",
        " \n",
        "Then print both inputs by seperating them with a comma.\n",
        "\n",
        "This code should print, e.g., **London , England**\n",
        "\n"
      ]
    },
    {
      "cell_type": "code",
      "execution_count": null,
      "metadata": {
        "colab": {
          "base_uri": "https://localhost:8080/"
        },
        "id": "d-ydq-SNM70F",
        "outputId": "2e64c567-ec07-4adb-a4c8-2b4e7fcc421d"
      },
      "outputs": [],
      "source": [
        "# Provide your solution here\n",
        "\n",
        "city = input(\"Input a city: \")\n",
        "country = input(\"Input a country: \")\n",
        "print(city + \", \" + country)"
      ]
    },
    {
      "cell_type": "markdown",
      "metadata": {
        "id": "eYukGIUmNOHp"
      },
      "source": [
        "**Question 5:** Prompt the user to enter two numbers, one after the other, and then print their difference. "
      ]
    },
    {
      "cell_type": "code",
      "execution_count": null,
      "metadata": {
        "id": "j_YzwhZKNbq8"
      },
      "outputs": [],
      "source": [
        "# Provide your solution here\n",
        "\n",
        "num1 = int(input(\"Input the first number: \"))\n",
        "num2 = int(input(\"Input the second number: \"))\n",
        "print(\"Difference is: \", num1 - num2)"
      ]
    },
    {
      "cell_type": "markdown",
      "metadata": {
        "id": "-UM1UBy3Ns8b"
      },
      "source": [
        "**Question 6:** Create a program to calculate the Celsius to Fahrenheit conversion. \n",
        "* Prompt the user to input a Celsius value.\n",
        "* Use the textbook coversion formula **fahrenheit = \n",
        "(9/5 * celsius + 32)**"
      ]
    },
    {
      "cell_type": "code",
      "execution_count": null,
      "metadata": {
        "id": "GaLLJVpZOEqA"
      },
      "outputs": [],
      "source": [
        "# Provide your solution here\n",
        "\n",
        "celsius = int(input(\"Input the Celsius value: \"))\n",
        "\n",
        "print(\"Fahrenheit: \", (9/5 * celsius + 32))"
      ]
    },
    {
      "cell_type": "markdown",
      "metadata": {
        "id": "0veexAyGvpm1"
      },
      "source": [
        "<img src='./imgs/bulb.png' width=\"50\" height=\"50\"> \n",
        "\n",
        "Remember to handle numerical user input with care. \n",
        "Every time we expect the user to enter an integer, we will need to convert it using the **int()** fuction.\n",
        "\n"
      ]
    },
    {
      "cell_type": "markdown",
      "metadata": {
        "id": "pJOOGalwOP7m"
      },
      "source": [
        "**Question 7:** Prompt the user to enter one of the two options:\n",
        "* *Coffee* or *Cookie*\n",
        "\n",
        "Then, compare the inputs:\n",
        "*  If the input is *Coffee* print *You ordered a Coffee*\n",
        "*  If the input is *Cookie* print *You ordered a Cookie*\n"
      ]
    },
    {
      "cell_type": "code",
      "execution_count": null,
      "metadata": {
        "id": "QfPSAHZHOS_-"
      },
      "outputs": [],
      "source": [
        "# Provide your solution here\n",
        "\n",
        "user_selection = input(\"Select Coffee or Cookie: \")\n",
        "\n",
        "if(user_selection == \"Coffee\" or user_selection == \"coffee\"):\n",
        "    print(\"You ordered a Coffee\")\n",
        "\n",
        "elif (user_selection == \"Cookie\" or user_selection == \"cookie\"):\n",
        "    print(\"You ordered a Cookie\")\n"
      ]
    },
    {
      "cell_type": "markdown",
      "metadata": {
        "id": "uBNo9jdzw7y-"
      },
      "source": [
        "**Question 8.1:** Study and run the following code. \n",
        "What does it print?"
      ]
    },
    {
      "cell_type": "code",
      "execution_count": null,
      "metadata": {
        "colab": {
          "base_uri": "https://localhost:8080/"
        },
        "id": "174vVd62w8At",
        "outputId": "116b75af-8018-41e3-bd14-4186005718d8"
      },
      "outputs": [],
      "source": [
        "user_number = int(input(\"Provide an integer number: \"))\n",
        "\n",
        "print(user_number*user_number)\n",
        "\n",
        "# Prints the number in the power of 2"
      ]
    },
    {
      "cell_type": "markdown",
      "metadata": {
        "id": "j-VdHAPoR_it"
      },
      "source": [
        "**Question 8.2:** Prompt the user to answer the following question \"How many days are in March?\"\n",
        "*  If the user enters 31, print \"That is correct!\"\n",
        "*  For any other input of a number print \"That is incorrect!\"\n"
      ]
    },
    {
      "cell_type": "code",
      "execution_count": null,
      "metadata": {
        "id": "MPGZUowER_p7"
      },
      "outputs": [],
      "source": [
        "# Provide your solution here\n",
        "\n",
        "days = int(input(\"How many days are in March? \"))\n",
        "\n",
        "if(days==31):\n",
        "    print(\"That is correct!\")\n",
        "else:\n",
        "    print(\"That's incorrect!\")"
      ]
    },
    {
      "cell_type": "markdown",
      "metadata": {
        "id": "JjGGrHm9RAOU"
      },
      "source": [
        "**Question 9:** Prompt the user to enter:\n",
        "\n",
        "1 for *Cappuccino*, 2 for *Latte* or 3 for *Espresso*.\n",
        "\n",
        "*  If the user enters 1, print *You ordered a Cappuccino*\n",
        "*  If the user enters 2, print *You ordered a Latte*\n",
        "*  If the user enters 3, print *You ordered an Espresso*\n",
        "* In any other case, print *Order number is unavailable*"
      ]
    },
    {
      "cell_type": "code",
      "execution_count": null,
      "metadata": {
        "id": "1OEu0gpXRAWW"
      },
      "outputs": [],
      "source": [
        "# Provide your solution here\n",
        "\n",
        "selection = int(input(\"1 for Cappuccino, 2 for Latte or 3 for Espresso: \"))\n",
        "if(selection==1):\n",
        "    print(\"You ordered a Cappuccino\")\n",
        "elif(selection==2):\n",
        "    print(\"You ordered a Latte\")\n",
        "elif(selection==3):\n",
        "    print(\"You ordered an Espresso\")\n",
        "else:\n",
        "    print(\"Order number is unavailable\")"
      ]
    },
    {
      "cell_type": "markdown",
      "metadata": {
        "id": "FhOq9aDhSadL"
      },
      "source": [
        "**Question 10:** Prompt the user to enter two numbers. The user can enter any number e.g. 10, 20.33 etc.\n",
        "\n",
        "Create a program to print the maximum number between these two numbers. "
      ]
    },
    {
      "cell_type": "code",
      "execution_count": null,
      "metadata": {
        "id": "Kv6bRsU9Salx"
      },
      "outputs": [],
      "source": [
        "# Provide your solution here\n",
        "\n",
        "num1 = float(input(\"Input the first number: \"))\n",
        "num2 = float(input(\"Input the second number: \"))\n",
        "if(num1>num2):\n",
        "    print(num1)\n",
        "else:\n",
        "    print(num2)"
      ]
    },
    {
      "cell_type": "markdown",
      "metadata": {
        "id": "iNPbtKgBT_dY"
      },
      "source": [
        "**Question 11-a:** Study and run the following program. \n",
        "\n",
        "We use **and** in our condition, to represent that both conditions **a>b** and **a>c** are true. \n",
        "\n",
        "In this example we compare **a** with **b** and **c**, but what is the larger number between **b** and **c**."
      ]
    },
    {
      "cell_type": "code",
      "execution_count": null,
      "metadata": {
        "id": "jA-xY-rsT_3C"
      },
      "outputs": [],
      "source": [
        "a = 5\n",
        "b = 10\n",
        "c = 20\n",
        "if a>b and a>c:\n",
        "  print(\"a is bigger than b and c\")"
      ]
    },
    {
      "cell_type": "markdown",
      "metadata": {
        "id": "-Zx1H_LjSvUU"
      },
      "source": [
        "**Question 11-b:** Prompt the user to enter three numbers. Create a program to print the maximum number between these three numbers (After completing this task study the solution document to identify different ways of implementing such functionality)."
      ]
    },
    {
      "cell_type": "markdown",
      "metadata": {
        "id": "qcjB4IKshSLP"
      },
      "source": [
        "<img src='./imgs/mounts.png' width=\"50\" height=\"50\"> \n",
        "\n",
        "There are alternative ways to solve this challenging task."
      ]
    },
    {
      "cell_type": "code",
      "execution_count": null,
      "metadata": {
        "colab": {
          "base_uri": "https://localhost:8080/"
        },
        "id": "OI7C-hAHSvbm",
        "outputId": "36fbbbd7-cf80-47fa-9174-fabf68893b8f"
      },
      "outputs": [],
      "source": [
        "# Provide your solution here\n",
        "\n",
        "num1 = int(input(\"Input the first number: \"))\n",
        "num2 = int(input(\"Input the second number: \"))\n",
        "num3 = int(input(\"Input the third number: \"))\n",
        "\n",
        "if num1>num2 and num1>num3:\n",
        "  max = num1\n",
        "elif num2>num3:\n",
        "  max = num2\n",
        "else:\n",
        "  max = num3\n",
        "print(max)\n",
        "\n",
        "# Alternatively \n",
        "\n",
        "num1 = int(input(\"Input the first number: \"))\n",
        "num2 = int(input(\"Input the second number: \"))\n",
        "num3 = int(input(\"Input the third number: \"))\n",
        "\n",
        "max = num1\n",
        "\n",
        "if(num2>num1):\n",
        "    max = num2\n",
        "if(num3>max):\n",
        "    max = num3\n",
        "\n",
        "# visualize what happens when we run, e.g., 12, 12 and 12.\n",
        "\n",
        "print(max)\n",
        "\n",
        "# Alternatively \n",
        "\n",
        "num1 = int(input(\"Input the first number: \"))\n",
        "num2 = int(input(\"Input the second number: \"))\n",
        "num3 = int(input(\"Input the third number: \"))\n",
        "\n",
        "max = num3 # We assume that num3 is the higher\n",
        "if num1>num2 and num1>num3:\n",
        "  max = num1\n",
        "elif num2>num3:\n",
        "  max = num2\n",
        "  \n",
        "print(max)"
      ]
    },
    {
      "cell_type": "markdown",
      "metadata": {
        "id": "5SVL43aRTL3G"
      },
      "source": [
        "**Question 12:** Create a program to check if an input number is non-zero. \n",
        "\n",
        "Prompt the user to enter a number and print the appropriate message as follows.\n",
        "\n",
        "* **Input is zero!** if the number is zero.\n",
        "* **Input is not zero!** if the number is not zero\n"
      ]
    },
    {
      "cell_type": "code",
      "execution_count": null,
      "metadata": {
        "id": "lFjpEI3zTMKC"
      },
      "outputs": [],
      "source": [
        "# Provide your solution here\n",
        "\n",
        "num = float(input('Please enter a number: '))\n",
        "\n",
        "if(num != 0):\n",
        "    print('Input is not zero!')\n",
        "    \n",
        "else:\n",
        "    print('Input is zero!')"
      ]
    },
    {
      "cell_type": "markdown",
      "metadata": {
        "id": "TBLj57XQTyZk"
      },
      "source": [
        "<img src='./imgs/bulb.png' width=\"50\" height=\"50\"> \n",
        "\n",
        "We can use if, elif and else statements to create a program to evaluate a statement. \n",
        "\n",
        "Remember to use indentation to indicate the block of codes."
      ]
    },
    {
      "cell_type": "markdown",
      "metadata": {
        "id": "K9_MW-fVCmo8"
      },
      "source": [
        "### Develop small programs"
      ]
    },
    {
      "cell_type": "markdown",
      "metadata": {
        "id": "3n7bTDCNihlM"
      },
      "source": [
        "**Question 13:** Implement a simple calculator to perform the basic four operations!\n",
        "\n",
        "*   The user will enter the first number\n",
        "*   The user will enter the second number\n",
        "*   The user will select the operation, between '+,' '-,' '*' and '/.'\n",
        "*   The program will output the results of the calculation\n",
        "\n",
        "Try the program for different inputs such as:\n",
        "* 2, 3, + \n",
        "* 10, 5, -\n",
        "* 5, 10, *\n",
        "* 20, 10, /\n",
        "* 20, 0, /"
      ]
    },
    {
      "cell_type": "markdown",
      "metadata": {
        "id": "me8lfj1fgtfy"
      },
      "source": [
        "<img src='./imgs/mounts.png' width=\"50\" height=\"50\"> \n",
        "\n",
        "This is a challenging task, make sure you consider all the different inputs when you develop your program."
      ]
    },
    {
      "cell_type": "code",
      "execution_count": null,
      "metadata": {
        "id": "QvvorBaajC-L"
      },
      "outputs": [],
      "source": [
        "# Provide your solution here\n",
        "\n",
        "num1 = int(input(\"Input the first number: \"))\n",
        "\n",
        "num2 = int(input(\"Input the second number: \"))\n",
        "\n",
        "operation = input(\"Select opearation (+, -, *, /): \")\n",
        "\n",
        "result = 0\n",
        "\n",
        "if (operation == \"+\"):\n",
        "    result = num1+num2\n",
        "    \n",
        "elif(operation == \"-\"):\n",
        "    result = num1-num2\n",
        "\n",
        "elif(operation == \"*\"):\n",
        "    result = num1*num2\n",
        "\n",
        "else:\n",
        "    if(num2!=0):\n",
        "        result = num1/num2\n",
        "    else:\n",
        "        result = \"Error: Division by zero!\"\n",
        "\n",
        "print(result)"
      ]
    },
    {
      "cell_type": "markdown",
      "metadata": {
        "id": "YyudIzQ0jVlc"
      },
      "source": [
        "**Question 14:** Create a program to check whether the following two phrases are the same:\n",
        "\n",
        "\n",
        "*   *All that glitters is not gold!*\n",
        "*   *all that glitters is not gold!*\n",
        "\n",
        "The program should print *Yes* or *No*.\n",
        "\n"
      ]
    },
    {
      "cell_type": "code",
      "execution_count": null,
      "metadata": {
        "colab": {
          "base_uri": "https://localhost:8080/"
        },
        "id": "7W_z0ELqihtr",
        "outputId": "e97c4123-262e-4455-fc18-a538d2945d00"
      },
      "outputs": [],
      "source": [
        "# Provide your solution here\n",
        "\n",
        "the_first = 'All that glitters is not gold!'\n",
        "\n",
        "the_second = 'all that glitters is not gold!'\n",
        "\n",
        "if the_first == the_second:\n",
        "    print('Yes')\n",
        "else:\n",
        "    print('No')"
      ]
    },
    {
      "cell_type": "markdown",
      "metadata": {
        "id": "rPFeUMh9jtq4"
      },
      "source": [
        "**Question 15:** Create a program to identify the eligibility of a person to enter a cinema to watch a movie. Prompt the user for her/his age and print the appropriate output.\n",
        "* \tA person is eligible to watch the movie if she/he is over 9 years old\n",
        "* \tA person with age between 10 and 20 years ols will need to pay £10\n",
        "*\t  A person with age greater than 60 will pay £5\n",
        "* \tAll the other ages will need to pay £12\n",
        "\n",
        "Provide a Python script to print appropriate messages for every case. Consider incorrect inputs e.g. negative numbers, in this case the program should input *input age is incorrect*."
      ]
    },
    {
      "cell_type": "code",
      "execution_count": null,
      "metadata": {
        "id": "B7q0ICVqjtz6"
      },
      "outputs": [],
      "source": [
        "# Provide your solution here\n",
        "\n",
        "age = int(input(\"Enter the age: \"))\n",
        "\n",
        "if (age > 10):\n",
        "  print (\"You are eligible to watch the movie\")\n",
        "\n",
        "  if (age < 20 or age > 60):\n",
        "      print(\"Ticket price is 10 pounds\")\n",
        "\n",
        "  else:\n",
        "      print(\"Ticket price is 12 pounds\")\n",
        "\n",
        "else:\n",
        "    print (\"input age is incorrect\")"
      ]
    },
    {
      "cell_type": "markdown",
      "metadata": {
        "id": "jXUHA_Syu3d5"
      },
      "source": [
        "**Question 16:** Create a program to calculate the cost of potatoes for different user selections. Prompt the user to enter the kilos of potatoes and calculate the final price using the following options:\n",
        "* If the user buys up to 10 kilos, then the price will be £0.75 per kilo\n",
        "*\tIf the user buys between 11 to 50 kilos then the price will be £0.65 per kilo\n",
        "*\tIf the user buys more than 50 kilos then the price will be £0.5 per kilo\n",
        "*\tFor any other input, print *NA*\n",
        "\n",
        "The program should output the final cost for a user input.\n"
      ]
    },
    {
      "cell_type": "markdown",
      "metadata": {
        "id": "blnsR24whLdX"
      },
      "source": [
        "<img src='./imgs/mounts.png' width=\"50\" height=\"50\"> \n",
        "\n",
        "This is a challenging task, so take your time."
      ]
    },
    {
      "cell_type": "code",
      "execution_count": null,
      "metadata": {
        "id": "xT1m6v-GlFis"
      },
      "outputs": [],
      "source": [
        "# Provide your solution here\n",
        "\n",
        "weight = int(input(\"Input the quantity (Kgs) of potatoes to buy: \"))\n",
        "\n",
        "LOWQUANT  = 0.75\n",
        "MIDQUANT  = 0.65\n",
        "HIGHQUANT = 0.50\n",
        "\n",
        "quantity = input('How many Kgs are you buying today?')\n",
        "\n",
        "if int(quantity) > 0 and int(quantity) <= 10:\n",
        "    print(f'Your price is {LOWQUANT} per Kilo')\n",
        "\n",
        "elif int(quantity) > 10 and int(quantity) <= 50:\n",
        "    print(f'Your price is {MIDQUANT} per Kilo')\n",
        "\n",
        "elif int(quantity) > 50:\n",
        "    print(f'Your price is {HIGHQUANT} per Kilo')\n",
        "\n",
        "else:\n",
        "    print('N/A: please enter a positive quantity')\n"
      ]
    }
  ],
  "metadata": {
    "colab": {
      "collapsed_sections": [],
      "name": "Demystifying Comp Class 1 Solutions.ipynb",
      "provenance": []
    },
    "kernelspec": {
      "display_name": "Python 3.10.7 64-bit",
      "language": "python",
      "name": "python3"
    },
    "language_info": {
      "codemirror_mode": {
        "name": "ipython",
        "version": 3
      },
      "file_extension": ".py",
      "mimetype": "text/x-python",
      "name": "python",
      "nbconvert_exporter": "python",
      "pygments_lexer": "ipython3",
      "version": "3.11.6"
    },
    "vscode": {
      "interpreter": {
        "hash": "369f2c481f4da34e4445cda3fffd2e751bd1c4d706f27375911949ba6bb62e1c"
      }
    }
  },
  "nbformat": 4,
  "nbformat_minor": 2
}
