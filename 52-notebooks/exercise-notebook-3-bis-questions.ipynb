{
 "cells": [
  {
   "cell_type": "markdown",
   "metadata": {
    "id": "37nZbUCQK6zA"
   },
   "source": [
    "### Welcome to exercise set three-bis\n",
    "\n",
    "**Answer/study the following questions using VS Code+Python and consulting the presentations seen in class.**"
   ]
  },
  {
   "cell_type": "markdown",
   "metadata": {
    "id": "FM5onNPWp80V"
   },
   "source": [
    "**Question 1:** Study the following two dimensional array. We call a 2D array a list of lists, in our case we have an array of 4 rows and 3 columns.\n",
    "\n",
    "Study and run the following code.\n",
    "\n"
   ]
  },
  {
   "cell_type": "code",
   "execution_count": null,
   "metadata": {
    "colab": {
     "base_uri": "https://localhost:8080/"
    },
    "id": "OFB9l6dZp87K",
    "outputId": "3d089d0c-a5d3-4715-9ad6-0fe42a4a8a33"
   },
   "outputs": [],
   "source": [
    "\n",
    "# Think a 2D list as a space with coordinates, where the index for rows\n",
    "# and columns starts from 0.\n",
    "\n",
    "# The following is a 2D list that you might come across in your career.\n",
    "\n",
    "alist = [[10, 20, 30], [40, 50, 60], [70, 80 ,90], [100,110,120]]\n",
    "\n",
    "# This might look confusing, so we can easily represent it like this:\n",
    "\n",
    "#             0     1   2\n",
    "alist = [\n",
    "            [10,   20, 30 ],    # 0\n",
    "            [40,   50, 60 ],    # 1\n",
    "            [70,   80, 90 ],    # 2\n",
    "            [100, 110, 120]    # 3\n",
    "        ]\n",
    "\n",
    "print(alist)"
   ]
  },
  {
   "cell_type": "markdown",
   "metadata": {
    "id": "vBlt3VTTqb_3"
   },
   "source": [
    "**Question 2.1:** Let us print the first *row* of the array, using the following code. This extracts the first element of the 2D array.\n",
    "Run the following code."
   ]
  },
  {
   "cell_type": "code",
   "execution_count": null,
   "metadata": {
    "colab": {
     "base_uri": "https://localhost:8080/"
    },
    "id": "h1cKeWBGqcKF",
    "outputId": "ee729f4e-23d0-40ec-b566-573a8875a649"
   },
   "outputs": [],
   "source": [
    "alist[0]"
   ]
  },
  {
   "cell_type": "markdown",
   "metadata": {
    "id": "kZQH19_TET2Y"
   },
   "source": [
    "**Question 2.2:** Print the third row of the 2D array."
   ]
  },
  {
   "cell_type": "code",
   "execution_count": null,
   "metadata": {
    "colab": {
     "base_uri": "https://localhost:8080/"
    },
    "id": "OKvoEtQOETCe",
    "outputId": "27e88b1d-086e-4b2b-e8df-dd9e0b5d4c27"
   },
   "outputs": [],
   "source": [
    "# Provide your solution here\n",
    "\n"
   ]
  },
  {
   "cell_type": "markdown",
   "metadata": {
    "id": "OEd39PlVqKSe"
   },
   "source": [
    "**Question 3:** Let us extract the element at position [0,0] that is the number 10. \n",
    "\n",
    "Similarly, if we want to extract number 110, then we will need to access the element in position [3,1].\n",
    "\n",
    "Note that the numbers of the indexes are starting from **zero**.\n",
    "\n",
    "Study and run the following code."
   ]
  },
  {
   "cell_type": "code",
   "execution_count": null,
   "metadata": {
    "colab": {
     "base_uri": "https://localhost:8080/"
    },
    "id": "D_lgfcmzqKZk",
    "outputId": "602c66b5-ef14-4ddb-890e-bb47fffc007b"
   },
   "outputs": [],
   "source": [
    "# The code to extract the element at position [0,0] is the following\n",
    "print('Position [0, 0]:', alist[0][0])\n",
    "\n",
    "# The code to extract the element 110 is the following\n",
    "print('Position [3, 1]:', alist[3][1])\n"
   ]
  },
  {
   "cell_type": "markdown",
   "metadata": {
    "id": "rs4rLIZmsfe8"
   },
   "source": [
    "**Question 4:** Examine the following code: withour running it, can you tell what will it print?"
   ]
  },
  {
   "cell_type": "code",
   "execution_count": null,
   "metadata": {
    "colab": {
     "base_uri": "https://localhost:8080/"
    },
    "id": "XJFNYngtsfpW",
    "outputId": "2f613b6c-16f7-4be8-e05e-bec82e0b921d"
   },
   "outputs": [],
   "source": [
    "\n",
    "for data_in_row in alist:\n",
    "    print(data_in_row)"
   ]
  },
  {
   "cell_type": "markdown",
   "metadata": {
    "id": "9FPoWexNsuEj"
   },
   "source": [
    "**Question 5:** We can use a double **for** loop to iterate in a multidimensional array. \n",
    "\n",
    "Study and run the following code. Add your comments in each line."
   ]
  },
  {
   "cell_type": "code",
   "execution_count": null,
   "metadata": {
    "id": "LrvWd5E5suLI"
   },
   "outputs": [],
   "source": [
    "for data_in_row in alist:         # For each row in the array\n",
    "    for element in data_in_row:   # For each element of the row\n",
    "        print(element)            # Print the element"
   ]
  },
  {
   "cell_type": "markdown",
   "metadata": {
    "id": "O9KhRNcdtHDk"
   },
   "source": [
    "**Question 6:** We can add a new row in our 2D array using the following code."
   ]
  },
  {
   "cell_type": "code",
   "execution_count": null,
   "metadata": {
    "colab": {
     "base_uri": "https://localhost:8080/"
    },
    "id": "gr8Mv0GQtHJq",
    "outputId": "412f0d1f-9037-4e73-87bf-d4335d998de2"
   },
   "outputs": [],
   "source": [
    "alist.append([130, 140, 150])\n",
    "\n",
    "print(alist)"
   ]
  },
  {
   "cell_type": "markdown",
   "metadata": {
    "id": "IEgB-_kqtbNJ"
   },
   "source": [
    "**Question 7:** We can remove a new row of 2D array using the **pop** method. We can use **alist.pop(index_number)**. Let us remove the first element using the following code. Run the next script."
   ]
  },
  {
   "cell_type": "code",
   "execution_count": null,
   "metadata": {
    "colab": {
     "base_uri": "https://localhost:8080/"
    },
    "id": "cZuElQiXtbWE",
    "outputId": "ec2c38c1-30c0-42fb-9d4b-f6996d93596f"
   },
   "outputs": [],
   "source": [
    "alist.pop(0)\n",
    "\n",
    "print(alist)"
   ]
  },
  {
   "cell_type": "markdown",
   "metadata": {
    "id": "-jX1EppJtvhX"
   },
   "source": [
    "**Question 8.1:** Consider the following list \n",
    "\n",
    "`nlist = [ ['a', 'b', 'c'], ['e', 'f', 'g'] ]`\n",
    "\n",
    "Create a script to count the number of rows of the `nlist`."
   ]
  },
  {
   "cell_type": "code",
   "execution_count": null,
   "metadata": {
    "colab": {
     "base_uri": "https://localhost:8080/"
    },
    "id": "12N2DUQStvpr",
    "outputId": "b3b3f9d9-71bb-4b9c-cd35-7ce170df839a"
   },
   "outputs": [],
   "source": [
    "# Provide your solution here\n",
    "\n"
   ]
  },
  {
   "cell_type": "markdown",
   "metadata": {
    "id": "oRW4CCiwFkol"
   },
   "source": [
    "**Question 8.2:** Consider the following list **mylist = [ [10, 5, 9], [29, 10, 10] ]**. \n",
    "\n",
    "Create a script to count how many **10s** are in the 2D list."
   ]
  },
  {
   "cell_type": "code",
   "execution_count": null,
   "metadata": {
    "colab": {
     "base_uri": "https://localhost:8080/"
    },
    "id": "9syKJhcUFkzb",
    "outputId": "0180c980-5190-4722-f509-220bfcc1a6f3"
   },
   "outputs": [],
   "source": [
    "# Provide your solution here\n",
    "mylist = [ [10, 5, 9], [29, 10, 10] ]\n",
    "\n"
   ]
  },
  {
   "cell_type": "markdown",
   "metadata": {
    "id": "X_mADTymGD14"
   },
   "source": [
    "**Question 8.3:** Can you create a function for **question 8.2**? \n",
    "\n",
    "The function should accept a list and a value to look as arguments and it should return the number of times the value appears.\n",
    "\n",
    "For example:\n",
    "\n",
    "\n",
    "*   User to provide a list: `mylist = [ [10, 5, 9], [29, 10, 10] ]`\n",
    "*   User to provide value to look: 10\n",
    "*   Function will return: 3\n"
   ]
  },
  {
   "cell_type": "markdown",
   "metadata": {},
   "source": [
    "\n",
    "<img src='./imgs/mounts.png' width='50' height='50'> \n",
    "\n",
    " \n",
    "> This is a challenging task, so take your time."
   ]
  },
  {
   "cell_type": "code",
   "execution_count": null,
   "metadata": {
    "colab": {
     "base_uri": "https://localhost:8080/"
    },
    "id": "nSoTJrbNGD_R",
    "outputId": "3141a482-0fbf-45ca-ee89-cc0f989bff2e"
   },
   "outputs": [],
   "source": [
    "# Provide your solution here\n",
    "\n"
   ]
  },
  {
   "cell_type": "markdown",
   "metadata": {
    "id": "o_K87eJpuh3H"
   },
   "source": [
    "**Question 9:** Create a script to count how many rows and columns are in a given multi-dimentional list, e.g. the `nlist`.\n"
   ]
  },
  {
   "cell_type": "markdown",
   "metadata": {},
   "source": [
    "<img src='./imgs/mounts.png' width='50' height='50'> \n",
    "\n",
    "> This is a challenging task, so take your time."
   ]
  },
  {
   "cell_type": "code",
   "execution_count": null,
   "metadata": {
    "colab": {
     "base_uri": "https://localhost:8080/"
    },
    "id": "FsOrDFMZuh_X",
    "outputId": "4f3334b9-ed26-4cf5-b9f0-95d12f422c72"
   },
   "outputs": [],
   "source": [
    "# Provide your solution here\n",
    "\n"
   ]
  },
  {
   "cell_type": "markdown",
   "metadata": {
    "id": "yYmWUCRyu4vN"
   },
   "source": [
    "<img src='./imgs/bulb.png' width='50' height='50'> \n",
    "\n",
    ">  Note that how is a symmetric list: every row has 3 elements. We might also have asymmetric lists, which make coding more complicated."
   ]
  },
  {
   "cell_type": "markdown",
   "metadata": {
    "id": "KwzZjyiqvQua"
   },
   "source": [
    "\n",
    "\n",
    "---\n",
    "\n"
   ]
  },
  {
   "cell_type": "markdown",
   "metadata": {
    "id": "7KBL1J-avRAM"
   },
   "source": [
    "**Question 10:** Let us start working with dictionaries. \n",
    "\n",
    "Your first task is to create a dictionary called *mybook* for the following data.\n",
    "\n",
    "* Name: 5 Traditional Songs\n",
    "* Age: 1978\n",
    "* Country: England\n",
    "* City: London\n",
    "\n",
    "Print the *mybook* dictionary to see the resulted dictionary."
   ]
  },
  {
   "cell_type": "code",
   "execution_count": null,
   "metadata": {
    "colab": {
     "base_uri": "https://localhost:8080/"
    },
    "id": "B_7ZWJJdvyxk",
    "outputId": "9fe87b51-9d5b-4b06-9da7-f353dfd2e089"
   },
   "outputs": [],
   "source": [
    "# Provide your solution here\n",
    "\n"
   ]
  },
  {
   "cell_type": "markdown",
   "metadata": {
    "id": "t-Z5y6DTcagW"
   },
   "source": [
    "**Question 11:** A dictionary is a **key:value** pair data structure. Use the *mybook* dictionary to extract the values for the *City* and *Country*.\n",
    "\n",
    "You might need to review the lecture slides. Print the results.\n",
    "\n",
    "Another resource for the rest of the exercises is the following: https://www.w3schools.com/python/python_dictionaries.asp"
   ]
  },
  {
   "cell_type": "code",
   "execution_count": null,
   "metadata": {
    "colab": {
     "base_uri": "https://localhost:8080/"
    },
    "id": "fXai6gnuwMdt",
    "outputId": "c43d8022-3f91-4b53-a759-31aa52ed0efb"
   },
   "outputs": [],
   "source": [
    "# Provide your solution here\n",
    "\n"
   ]
  },
  {
   "cell_type": "markdown",
   "metadata": {
    "id": "hx3TTblCwdJ2"
   },
   "source": [
    "**Question 12:** Add the following data to the *mybook* dataset.\n",
    "\n",
    "Add new data as follows:\n",
    "* Physical description: score 27 pages\n",
    "\n",
    "Print the dictionary to see the results.\n",
    "Your dictionary should like this:\n",
    "\n",
    "{'Name': '5 Traditional Songs', 'Age': 1978, 'Country': 'England', 'City': 'London', 'Physical description': 'score 27 pages'}"
   ]
  },
  {
   "cell_type": "markdown",
   "metadata": {
    "id": "21IyO_gIw_0S"
   },
   "source": [
    "**Question 13:** Update the *mybook* dataset using the following data.\n",
    "\n",
    "* Physical description: Score 30 pages\n",
    "\n",
    "Print the data to see the results."
   ]
  },
  {
   "cell_type": "code",
   "execution_count": null,
   "metadata": {
    "colab": {
     "base_uri": "https://localhost:8080/"
    },
    "id": "XBnUITWVw_8s",
    "outputId": "769d9ad7-55da-4b67-f475-57479e2808af"
   },
   "outputs": [],
   "source": [
    "# Provide your solution here\n",
    "\n"
   ]
  },
  {
   "cell_type": "markdown",
   "metadata": {
    "id": "HvHbm7TSxT86"
   },
   "source": [
    "**Question 14:** Delete the *age* key and its value using the appropriate method. \n",
    "\n",
    "Review the following link: https://www.w3schools.com/python/ref_dictionary_pop.asp\n",
    "\n",
    "Print the dictionary to see the results."
   ]
  },
  {
   "cell_type": "code",
   "execution_count": null,
   "metadata": {
    "colab": {
     "base_uri": "https://localhost:8080/"
    },
    "id": "t_cHTEye6mAt",
    "outputId": "12b3b271-6d2b-474a-eb55-ea836c8eb829"
   },
   "outputs": [],
   "source": [
    "# Provide your solution here\n",
    "\n"
   ]
  },
  {
   "cell_type": "markdown",
   "metadata": {
    "id": "w9dEEym8y5od"
   },
   "source": [
    "**Question 15.a:** Let us use a more complex dictionary, where each key has multiple values.\n",
    "\n",
    "Run and study the following code."
   ]
  },
  {
   "cell_type": "code",
   "execution_count": null,
   "metadata": {
    "colab": {
     "base_uri": "https://localhost:8080/"
    },
    "id": "HsKAnfzey5w3",
    "outputId": "8952ffcb-f407-4def-9dd1-f95a1650e901"
   },
   "outputs": [],
   "source": [
    "newbooks = { 'Name': ['5 Traditional Songs', 'A Scottish salute'],\n",
    "           'Age': [1978, 1986],\n",
    "           'Country': ['England', 'United States'],\n",
    "           'City': ['London', 'New York']     \n",
    "          }\n",
    "\n",
    "print(newbooks)"
   ]
  },
  {
   "cell_type": "markdown",
   "metadata": {
    "id": "KKUUuI3nyVIN"
   },
   "source": [
    "**Question 15.b:** Search if there is any book for a particular year of age in the *newbook* dictionary. Create a function to print *True* or *False* for each case. \n",
    "\n",
    "For example if we search for a book from 1978, the program will return *True*, if we search for a book from *1982*, the program will return False."
   ]
  },
  {
   "cell_type": "markdown",
   "metadata": {},
   "source": [
    "<img src='./imgs/mounts.png' width='50' height='50'> \n",
    "> This is a challenging task, so take your time."
   ]
  },
  {
   "cell_type": "code",
   "execution_count": null,
   "metadata": {
    "colab": {
     "base_uri": "https://localhost:8080/"
    },
    "id": "2hiJQyvNyVTV",
    "outputId": "861ec2b3-7ee8-49b7-a2ce-a7b7acb6748b"
   },
   "outputs": [],
   "source": [
    "# Provide your solution here\n",
    "\n"
   ]
  },
  {
   "cell_type": "markdown",
   "metadata": {
    "id": "yeyh0MXazr6O"
   },
   "source": [
    "**Question 16:** A common practice of using dictionary is to count how many elements exist in a list.\n",
    "\n",
    "For example, we want to transform the following list:\n",
    "* names = ['Mary','Tom', 'Mary', 'Tom', 'Mary']\n",
    "\n",
    "in the following dictionary:\n",
    "\n",
    "* {'Mary': 3, 'Tom': 2}\n",
    "\n",
    "\n",
    "Run and study the following code.\n",
    "\n",
    "<img src='https://drive.google.com/uc?id=1TILfsLPhdXLqyGIjILDLcNtvk-wACxyX' width='50' height='50'> \n",
    "\n",
    "> This is a challenging task, so take your time."
   ]
  },
  {
   "cell_type": "markdown",
   "metadata": {
    "id": "EMozkud10lQH"
   },
   "source": [
    "**Question 17:** Write a program to implement a linear search function for an element in a list of positive numbers. If the element exists, print the element, in any other case print -1.\n",
    "\n",
    "- Use list `alist = [10, 13, 17, 22, 28]`\n",
    "-   look for key 22\n",
    "-   then look for key 23\n",
    "\n",
    "Print the results."
   ]
  },
  {
   "cell_type": "code",
   "execution_count": null,
   "metadata": {
    "colab": {
     "base_uri": "https://localhost:8080/"
    },
    "id": "JQyOBzGQ0la-",
    "outputId": "69c1b448-86ba-4f7f-f822-b3c909eec47f"
   },
   "outputs": [],
   "source": [
    "# Provide your solution here\n",
    "\n"
   ]
  },
  {
   "cell_type": "markdown",
   "metadata": {
    "id": "4duRoWER2IIm"
   },
   "source": [
    "**Question 18:** The following code demonstrates how to run the binary search algorithm. \n",
    "\n",
    "Study and run it by adding appropriate calls."
   ]
  },
  {
   "cell_type": "code",
   "execution_count": null,
   "metadata": {
    "colab": {
     "base_uri": "https://localhost:8080/"
    },
    "id": "0gUM7KcM2IPi",
    "outputId": "9ed7ed37-3507-4dfa-fec9-afd8a6405390"
   },
   "outputs": [],
   "source": [
    "def bs(a, k):\n",
    "    '''Simple Binary search implementation: a is a list of integers, k is a search key integer'''\n",
    "\n",
    "    found = False\n",
    "\n",
    "    n = len(a)\n",
    "\n",
    "    # the boundaries of our search\n",
    "    l = 0\n",
    "    r = n\n",
    "\n",
    "    while ((found == False) and (l < r)):\n",
    "\n",
    "        mid = l + int((r-l)/2)\n",
    "        \n",
    "        '''print('New iteration!')\n",
    "        print(f'l={l}, mid={mid}, r={r} and the segment now is {a[l:r]}')\n",
    "        _ = input('Press enter to continue!')'''\n",
    "\n",
    "        if k < a[mid]:\n",
    "            r = mid \n",
    "\n",
    "        elif k > a[mid]:\n",
    "            l = mid + 1\n",
    "\n",
    "        else:\n",
    "            found = True\n",
    "            print('found in position ', mid)\n",
    "\n",
    "    return found"
   ]
  }
 ],
 "metadata": {
  "colab": {
   "collapsed_sections": [],
   "name": "Demystifying Comp Class 4 Questions.ipynb",
   "provenance": []
  },
  "kernelspec": {
   "display_name": "Python 3 (ipykernel)",
   "language": "python",
   "name": "python3"
  },
  "language_info": {
   "codemirror_mode": {
    "name": "ipython",
    "version": 3
   },
   "file_extension": ".py",
   "mimetype": "text/x-python",
   "name": "python",
   "nbconvert_exporter": "python",
   "pygments_lexer": "ipython3",
   "version": "3.11.6"
  },
  "vscode": {
   "interpreter": {
    "hash": "369f2c481f4da34e4445cda3fffd2e751bd1c4d706f27375911949ba6bb62e1c"
   }
  }
 },
 "nbformat": 4,
 "nbformat_minor": 2
}
