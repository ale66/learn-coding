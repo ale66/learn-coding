{
 "cells": [
  {
   "cell_type": "markdown",
   "metadata": {},
   "source": [
    "###  Welcome to the objects and classes notebook"
   ]
  },
  {
   "cell_type": "markdown",
   "metadata": {},
   "source": [
    "This notebook is a companion to the eponymous lecture seen in class. \n",
    "\n",
    "Please refer to it for the detailed explanation of the syntax seen in the cells below. "
   ]
  },
  {
   "cell_type": "code",
   "execution_count": null,
   "metadata": {},
   "outputs": [],
   "source": [
    "mylist = ['r', 'e', 'm']\n",
    "\n",
    "mydict = {'name':'ale'}"
   ]
  },
  {
   "cell_type": "code",
   "execution_count": null,
   "metadata": {},
   "outputs": [],
   "source": [
    "print('hello'.upper())\n",
    "\n",
    "mylist.append('e')\n",
    "\n",
    "mydict.keys()"
   ]
  },
  {
   "cell_type": "code",
   "execution_count": null,
   "metadata": {},
   "outputs": [],
   "source": [
    "from datetime import date\n",
    "\n",
    "print(date.today())"
   ]
  },
  {
   "cell_type": "code",
   "execution_count": 26,
   "metadata": {},
   "outputs": [],
   "source": [
    "class temperature:\n",
    "    '''My attempt to work with both Celsius and Farenheit temps.'''\n",
    "\n",
    "    def __init__(self, date= date.today(), value = 0, system = 'C'):\n",
    "        self.date = date\n",
    "        self.value = value\n",
    "        self.system = system"
   ]
  },
  {
   "cell_type": "code",
   "execution_count": null,
   "metadata": {},
   "outputs": [],
   "source": [
    "#be careful and specify the keyword variable that goes with the keyword argument since we are not providing values for the other inputs\n",
    "naples = temperature(value = 14)"
   ]
  },
  {
   "cell_type": "code",
   "execution_count": null,
   "metadata": {},
   "outputs": [],
   "source": [
    "naples.value"
   ]
  },
  {
   "cell_type": "code",
   "execution_count": null,
   "metadata": {},
   "outputs": [],
   "source": [
    "naples.system"
   ]
  },
  {
   "cell_type": "code",
   "execution_count": null,
   "metadata": {},
   "outputs": [],
   "source": [
    "class temperature:\n",
    "    '''My attempt to work with both Celsius and Farenheit temps.'''\n",
    "\n",
    "    def __init__(self, date = date.today(), value = 0, system = 'C'):\n",
    "        self.date = date\n",
    "        self.value = value\n",
    "        self.system = system\n",
    "\n",
    "    def toC(self):\n",
    "        '''Returns the Celsius equivalent of the stored temp.'''\n",
    "        \n",
    "        if self.system == 'C':\n",
    "            return self.value\n",
    "        else:\n",
    "            # convert F into C\n",
    "            return ((self.value - 32) * (5/9))"
   ]
  },
  {
   "cell_type": "code",
   "execution_count": null,
   "metadata": {},
   "outputs": [],
   "source": [
    "NYC = temperature(value = 60, system = 'F')"
   ]
  },
  {
   "cell_type": "code",
   "execution_count": null,
   "metadata": {},
   "outputs": [],
   "source": [
    "NYC.value"
   ]
  },
  {
   "cell_type": "code",
   "execution_count": null,
   "metadata": {},
   "outputs": [],
   "source": [
    "NYC.toC()"
   ]
  },
  {
   "cell_type": "code",
   "execution_count": 34,
   "metadata": {},
   "outputs": [],
   "source": [
    "class temperature:\n",
    "    '''My attempt to work with both Celsius and Farenheit temps.'''\n",
    "\n",
    "    def __init__(self, date = date.today(), value = 0, system = 'C'):\n",
    "        self.date = date\n",
    "        self.value = value\n",
    "        self.system = system\n",
    "\n",
    "    def toC(self):\n",
    "        '''Returns the Celsius equivalent of the stored temp.'''\n",
    "        \n",
    "        if self.system == 'C':\n",
    "            return self.value\n",
    "        else:\n",
    "            # convert F into C\n",
    "            return (self.value - 32) * 5 / 9\n",
    "\n",
    "    def toF(self):\n",
    "        '''Returns the Farenheit equivalent of the stored temp.'''\n",
    "        \n",
    "        if self.system == 'F':\n",
    "            return self.value\n",
    "        else:\n",
    "            # convert F into C\n",
    "            return 32 + self.value * 9 / 5"
   ]
  },
  {
   "cell_type": "code",
   "execution_count": null,
   "metadata": {},
   "outputs": [],
   "source": [
    "temp_milan = temperature('2024-11-25', 8, 'C')\n",
    "\n",
    "temp_seattle = temperature('2024-11-25', 43, 'F')"
   ]
  },
  {
   "cell_type": "code",
   "execution_count": null,
   "metadata": {},
   "outputs": [],
   "source": [
    "temp_milan.value"
   ]
  },
  {
   "cell_type": "code",
   "execution_count": null,
   "metadata": {},
   "outputs": [],
   "source": [
    "temp_rome = temperature(value = 9)\n",
    "\n",
    "temp_guam = temperature(value = 83, system = 'F')\n",
    "\n",
    "print(temp_guam.toC())"
   ]
  },
  {
   "cell_type": "markdown",
   "metadata": {},
   "source": [
    "Check whether a method is available, then invoke it:"
   ]
  },
  {
   "cell_type": "code",
   "execution_count": null,
   "metadata": {},
   "outputs": [],
   "source": [
    "temp_sydney = temperature(value = 68, system = 'F')\n",
    "\n",
    "print(\"It's \" + str(temp_sydney.toC()) + ' degrees Celsius in Sydney today!')"
   ]
  },
  {
   "cell_type": "code",
   "execution_count": null,
   "metadata": {},
   "outputs": [],
   "source": [
    "if hasattr(temp_sydney, 'date'):\n",
    "    \n",
    "    date = temp_sydney.date\n",
    "    \n",
    "    print('On ' + str(date) + ' it was ' + str(temp_sydney.toC()) + ' degrees in Sydney!')"
   ]
  },
  {
   "cell_type": "code",
   "execution_count": null,
   "metadata": {},
   "outputs": [],
   "source": [
    "temp_sydney = temperature(value = 60, system = 'F')\n",
    "\n",
    "print(getattr(temp_sydney, 'system'))"
   ]
  },
  {
   "cell_type": "markdown",
   "metadata": {},
   "source": [
    "#### Exercise\n",
    "\n",
    "extend the temperature class to include the Kelvin scale.\n",
    "\n",
    "Don't bother with defining `toF()` which has been seen above."
   ]
  },
  {
   "cell_type": "code",
   "execution_count": null,
   "metadata": {},
   "outputs": [],
   "source": [
    "class three_temperatures:\n",
    "    '''Now with three scales!'''\n",
    "\n",
    "    zero = -273.15\n",
    "\n",
    "    def __init__(self, date = date.today(), value = 0, system = 'C'):\n",
    "        self.date = date\n",
    "        self.value = value\n",
    "        self.system = system\n",
    "\n",
    "    # Why not 'borrow' these methods from the similar 'temperature'\n",
    "    # class defined above?\n",
    "    def toC(self):\n",
    "        if self.system == 'C':\n",
    "            return self.value\n",
    "        else:\n",
    "            return self.value\n",
    "\n",
    "    # don't bother with toF()\n",
    "    \n",
    "    def toK(self):\n",
    "        if self.system == 'C':\n",
    "            return self.value - self.__class__.zero\n",
    "        else:\n",
    "            return self.toC() - self.__class__.zero"
   ]
  },
  {
   "cell_type": "code",
   "execution_count": null,
   "metadata": {},
   "outputs": [],
   "source": [
    "temp_moscow = three_temperatures(value = 25, system = 'F')\n",
    "\n",
    "print(temp_moscow.toK())"
   ]
  },
  {
   "cell_type": "markdown",
   "metadata": {},
   "source": [
    "#### Calling a method with arguments"
   ]
  },
  {
   "cell_type": "code",
   "execution_count": null,
   "metadata": {},
   "outputs": [],
   "source": [
    "from datetime import date\n",
    "\n",
    "print(date.today())"
   ]
  },
  {
   "cell_type": "code",
   "execution_count": null,
   "metadata": {},
   "outputs": [],
   "source": [
    "class all_temperatures:\n",
    "    '''Now with three scales!'''\n",
    "\n",
    "    zero = -273.15\n",
    "\n",
    "    def __init__(self, date = date.today(), value = 0, system = 'C'):\n",
    "        self.date = date\n",
    "        self.value = value\n",
    "        self.system = system\n",
    "\n",
    "    # Why not 'inherit' these methods from the similar 'temperature'\n",
    "    # class defined above?\n",
    "    def toC(self):\n",
    "        if self.system == 'C':\n",
    "            return self.value\n",
    "        else:\n",
    "            return (self.value - 32) * 5 / 9\n",
    "\n",
    "    # don't bother with toF()\n",
    "\n",
    "    def toK(self):\n",
    "        if self.system == 'C':\n",
    "            return self.value - self.__class__.zero\n",
    "        else:\n",
    "            return self.toC() - self.__class__.zero\n",
    "\n",
    "    def generalSciTemp(self, given = 0, scale = 'C'):\n",
    "        if scale == 'C':\n",
    "            return given - self.__class__.zero\n",
    "        else:\n",
    "            # convert F to C and rebase to K, in one go\n",
    "            return ((given - 32) * 5 / 9) - self.__class__.zero"
   ]
  },
  {
   "cell_type": "code",
   "execution_count": null,
   "metadata": {},
   "outputs": [],
   "source": [
    "temp_oslo = all_temperatures(value = 48, system = 'F')\n",
    "\n",
    "print(temp_oslo.toK())\n",
    "\n",
    "print(getattr(temp_oslo, 'generalSciTemp')(100, scale = 'F'))\n",
    "\n",
    "\n",
    "a_local_function = getattr(temp_oslo, 'generalSciTemp')\n",
    "\n",
    "print(a_local_function(100, scale = 'F'))"
   ]
  },
  {
   "cell_type": "markdown",
   "metadata": {},
   "source": [
    "### Class counters"
   ]
  },
  {
   "cell_type": "code",
   "execution_count": null,
   "metadata": {},
   "outputs": [],
   "source": [
    "class student:\n",
    "    '''A student object class with name/surname information'''\n",
    "\n",
    "    # class attribute\n",
    "    count = 0\n",
    "\n",
    "    def __init__(self, name, surname = ''):\n",
    "        self.name = name\n",
    "        self.surname = surname\n",
    "        self.__class__.count += 1"
   ]
  },
  {
   "cell_type": "markdown",
   "metadata": {},
   "source": [
    "Try executing these assignments twice: what happens?"
   ]
  },
  {
   "cell_type": "code",
   "execution_count": null,
   "metadata": {},
   "outputs": [],
   "source": [
    "a = student(name = 'Alice')\n",
    "b = student(name = 'Bob')\n",
    "c = student(name = 'Charlie')\n",
    "\n",
    "print(a.__class__.count)\n",
    "print(b.__class__.count)\n",
    "print(c.__class__.count)"
   ]
  },
  {
   "cell_type": "code",
   "execution_count": null,
   "metadata": {},
   "outputs": [],
   "source": [
    "class student:\n",
    "    count = 0\n",
    "    # private class attribute\n",
    "    __max_capacity = 25\n",
    "\n",
    "    def __init__(self, name, surname=\"\"):\n",
    "        ...\n",
    "        self.__class__.__count += 1\n",
    "\n",
    "    def __alert(self, __count):\n",
    "        if count > __max_capacity:\n",
    "            print('Class is overbooked!')"
   ]
  },
  {
   "cell_type": "code",
   "execution_count": null,
   "metadata": {},
   "outputs": [],
   "source": [
    "class geolocated_temp(temperature):\n",
    "    \n",
    "    def __init__(self, date, value = 0, system = 'C', \n",
    "                 place = {'N':\"51°31'19.8\", 'W':\"0°07'51.4\"}):\n",
    "        # run the 'inherited' constructor\n",
    "        temperature.__init__(self, date, value, system)\n",
    "        # additionally, set up the place\n",
    "        # default location: Birkbeck main building\n",
    "        self.place = place"
   ]
  },
  {
   "cell_type": "code",
   "execution_count": 51,
   "metadata": {},
   "outputs": [],
   "source": [
    "temp_office = geolocated_temp(5)"
   ]
  },
  {
   "cell_type": "code",
   "execution_count": null,
   "metadata": {},
   "outputs": [],
   "source": [
    "new_temp = temperature(value = 20)\n",
    "\n",
    "print(new_temp.__doc__)\n",
    "\n",
    "another_temp = new_temp.__class__(value = 30)\n",
    "\n",
    "print(new_temp.__module__)\n",
    "\n",
    "print(new_temp.__dict__)"
   ]
  }
 ],
 "metadata": {
  "kernelspec": {
   "display_name": "Python 3",
   "language": "python",
   "name": "python3"
  },
  "language_info": {
   "codemirror_mode": {
    "name": "ipython",
    "version": 3
   },
   "file_extension": ".py",
   "mimetype": "text/x-python",
   "name": "python",
   "nbconvert_exporter": "python",
   "pygments_lexer": "ipython3",
   "version": "3.12.0"
  }
 },
 "nbformat": 4,
 "nbformat_minor": 2
}
