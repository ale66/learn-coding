{
 "cells": [
  {
   "cell_type": "markdown",
   "metadata": {},
   "source": [
    "###  Welcome to the objects and classes notebook"
   ]
  },
  {
   "cell_type": "markdown",
   "metadata": {},
   "source": [
    "This notebook is a companion to the eponymous lecture seen in class. \n",
    "\n",
    "Please refer to it for the detailed explanation of the syntax seen in the cells below. "
   ]
  },
  {
   "cell_type": "code",
   "execution_count": null,
   "metadata": {},
   "outputs": [],
   "source": [
    "mylist = ['r', 'e', 'm']\n",
    "\n",
    "mydict = {'name':'ale'}"
   ]
  },
  {
   "cell_type": "code",
   "execution_count": null,
   "metadata": {},
   "outputs": [],
   "source": [
    "print('hello'.upper())\n",
    "\n",
    "mylist.append('e')\n",
    "\n",
    "mydict.keys()"
   ]
  },
  {
   "cell_type": "code",
   "execution_count": null,
   "metadata": {},
   "outputs": [],
   "source": [
    "from datetime import date\n",
    "\n",
    "print(date.today())"
   ]
  },
  {
   "cell_type": "code",
   "execution_count": null,
   "metadata": {},
   "outputs": [],
   "source": [
    "class temperature:\n",
    "    '''My attempt to work with both Celsius and Fahrenheit temps.'''\n",
    "\n",
    "    def __init__(self, date = date.today(), value = 0, system = 'C'):\n",
    "        #these are class attributes\n",
    "        self.date = date\n",
    "        self.value = value\n",
    "        self.system = system"
   ]
  },
  {
   "cell_type": "code",
   "execution_count": null,
   "metadata": {},
   "outputs": [],
   "source": [
    "# carefully specify the keyword variable \n",
    "# that goes with the keyword argument \n",
    "# as we are not providing values for the other inputs\n",
    "naples = temperature(value = 14)"
   ]
  },
  {
   "cell_type": "code",
   "execution_count": null,
   "metadata": {},
   "outputs": [],
   "source": [
    "naples.value"
   ]
  },
  {
   "cell_type": "code",
   "execution_count": null,
   "metadata": {},
   "outputs": [],
   "source": [
    "naples.system"
   ]
  },
  {
   "cell_type": "code",
   "execution_count": null,
   "metadata": {},
   "outputs": [],
   "source": [
    "class temperature:\n",
    "    '''My attempt to work with both Celsius and Fahrenheit temps.'''\n",
    "\n",
    "    def __init__(self, date = date.today(), value = 0, system = 'C'):\n",
    "        self.date = date\n",
    "        self.value = value\n",
    "        self.system = system\n",
    "\n",
    "    #here we define a method\n",
    "    def toC(self):\n",
    "        '''Returns the Celsius equivalent of the stored temp.'''\n",
    "        \n",
    "        if self.system == 'C':\n",
    "            return self.value\n",
    "        else:\n",
    "            # convert F into C\n",
    "            return ((self.value - 32) * (5/9))"
   ]
  },
  {
   "cell_type": "code",
   "execution_count": null,
   "metadata": {},
   "outputs": [],
   "source": [
    "temp_seattle = temperature(value = 50, system = 'F')"
   ]
  },
  {
   "cell_type": "code",
   "execution_count": null,
   "metadata": {},
   "outputs": [],
   "source": [
    "temp_seattle.value"
   ]
  },
  {
   "cell_type": "code",
   "execution_count": null,
   "metadata": {},
   "outputs": [],
   "source": [
    "temp_seattle.toC()"
   ]
  },
  {
   "cell_type": "code",
   "execution_count": null,
   "metadata": {},
   "outputs": [],
   "source": [
    "class temperature:\n",
    "    '''My attempt to work with both Celsius and Fahrenheit temps.'''\n",
    "\n",
    "    def __init__(self, date = date.today(), value = 0, system = 'C'):\n",
    "        self.date = date\n",
    "        self.value = value\n",
    "        self.system = system\n",
    "\n",
    "    def toC(self):\n",
    "        '''Returns the Celsius equivalent of the stored temp.'''\n",
    "        \n",
    "        if self.system == 'C':\n",
    "            return self.value\n",
    "        else:\n",
    "            # convert F into C\n",
    "            return (self.value - 32) * 5 / 9\n",
    "\n",
    "    def toF(self):\n",
    "        '''Returns the Farenheit equivalent of the stored temp.'''\n",
    "        \n",
    "        if self.system == 'F':\n",
    "            return self.value\n",
    "        else:\n",
    "            # convert F into C\n",
    "            return 32 + self.value * 9 / 5"
   ]
  },
  {
   "cell_type": "code",
   "execution_count": null,
   "metadata": {},
   "outputs": [],
   "source": [
    "temp_milan = temperature('2024-11-22', 11, 'C')\n",
    "\n",
    "temp_seattle = temperature('2024-11-22', 50, 'F')"
   ]
  },
  {
   "cell_type": "code",
   "execution_count": null,
   "metadata": {},
   "outputs": [],
   "source": [
    "temp_milan.value"
   ]
  },
  {
   "cell_type": "code",
   "execution_count": null,
   "metadata": {},
   "outputs": [],
   "source": [
    "temp_rome = temperature(value = 20)\n",
    "\n",
    "temp_guam = temperature(value = 80, system = 'F')\n",
    "\n",
    "print(temp_guam.toC())"
   ]
  },
  {
   "cell_type": "markdown",
   "metadata": {},
   "source": [
    "Check whether a method is available, then invoke it:"
   ]
  },
  {
   "cell_type": "code",
   "execution_count": null,
   "metadata": {},
   "outputs": [],
   "source": [
    "temp_seattle = temperature(value = 50, system = 'F')\n",
    "\n",
    "print(\"It's \" + str(temp_seattle.toC()) + ' degrees Celsius in Seattle today!')"
   ]
  },
  {
   "cell_type": "code",
   "execution_count": null,
   "metadata": {},
   "outputs": [],
   "source": [
    "if hasattr(temp_seattle, 'date'):\n",
    "    \n",
    "    date = temp_seattle.date\n",
    "    \n",
    "    print('On ' + str(date) + ' it was ' + str(temp_seattle.toC()) + ' degrees in Seattle!')"
   ]
  },
  {
   "cell_type": "code",
   "execution_count": null,
   "metadata": {},
   "outputs": [],
   "source": [
    "temp_seattle = temperature(value = 50, system = 'F')\n",
    "\n",
    "print(getattr(temp_seattle, 'system'))"
   ]
  },
  {
   "cell_type": "markdown",
   "metadata": {},
   "source": [
    "#### Exercise\n",
    "\n",
    "extend the temperature class to include the Kelvin scale.\n",
    "\n",
    "Don't bother with defining `toF()` which has been seen above."
   ]
  },
  {
   "cell_type": "code",
   "execution_count": null,
   "metadata": {},
   "outputs": [],
   "source": [
    "class three_temperatures:\n",
    "    '''Now with three scales!'''\n",
    "\n",
    "    zero = -273.15\n",
    "\n",
    "    def __init__(self, date = date.today(), value = 0, system = 'C'):\n",
    "        self.date = date\n",
    "        self.value = value\n",
    "        self.system = system\n",
    "\n",
    "    # Why not 'borrow' these methods from the similar 'temperature'\n",
    "    # class defined above?\n",
    "    \n",
    "    # don't bother with toF()\n",
    "    \n",
    "    "
   ]
  },
  {
   "cell_type": "code",
   "execution_count": null,
   "metadata": {},
   "outputs": [],
   "source": [
    "temp_moscow = three_temperatures(value = 25, system = 'F')\n",
    "\n",
    "print(temp_moscow.toK())"
   ]
  },
  {
   "cell_type": "markdown",
   "metadata": {},
   "source": [
    "#### Calling a method with arguments"
   ]
  },
  {
   "cell_type": "code",
   "execution_count": null,
   "metadata": {},
   "outputs": [],
   "source": [
    "from datetime import date\n",
    "\n",
    "print(date.today())"
   ]
  },
  {
   "cell_type": "code",
   "execution_count": null,
   "metadata": {},
   "outputs": [],
   "source": [
    "class all_temperatures:\n",
    "    '''Now with three scales!'''\n",
    "\n",
    "    zero = -273.15\n",
    "\n",
    "    def __init__(self, date = date.today(), value = 0, system = 'C'):\n",
    "        self.date = date\n",
    "        self.value = value\n",
    "        self.system = system\n",
    "\n",
    "    # Why not 'borrow' these methods from the similar 'temperature'\n",
    "    # class defined above?\n",
    "    def toC(self):\n",
    "        if self.system == 'C':\n",
    "            return self.value\n",
    "        else:\n",
    "            return (self.value - 32) * 5 / 9\n",
    "\n",
    "    # don't bother with toF()\n",
    "\n",
    "    def toK(self):\n",
    "        if self.system == 'C':\n",
    "            return self.value - self.__class__.zero\n",
    "        else:\n",
    "            return self.toC() - self.__class__.zero\n",
    "\n",
    "    def generalSciTemp(self, given = 0, scale = 'C'):\n",
    "        if scale == 'C':\n",
    "            return given - self.__class__.zero\n",
    "        else:\n",
    "            # convert F to C and rebase to K, in one go\n",
    "            return ((given - 32) * 5 / 9) - self.__class__.zero"
   ]
  },
  {
   "cell_type": "code",
   "execution_count": null,
   "metadata": {},
   "outputs": [],
   "source": [
    "temp_seattle = all_temperatures(value = 50, system = 'F')\n",
    "\n",
    "print(temp_seattle.toK())\n",
    "\n",
    "print(getattr(temp_seattle, 'generalSciTemp')(100, scale = 'F'))\n",
    "\n",
    "\n",
    "a_local_function = getattr(temp_seattle, 'generalSciTemp')\n",
    "\n",
    "print(a_local_function(100, scale = 'F'))"
   ]
  },
  {
   "cell_type": "markdown",
   "metadata": {},
   "source": [
    "### Class counters"
   ]
  },
  {
   "cell_type": "code",
   "execution_count": null,
   "metadata": {},
   "outputs": [],
   "source": [
    "class student:\n",
    "    '''A student object class with name/surname information'''\n",
    "\n",
    "    # class attribute\n",
    "    count = 0\n",
    "\n",
    "    def __init__(self, name, surname = ''):\n",
    "        self.name = name\n",
    "        self.surname = surname\n",
    "        self.__class__.count += 1"
   ]
  },
  {
   "cell_type": "markdown",
   "metadata": {},
   "source": [
    "Try executing these assignments twice: what happens?"
   ]
  },
  {
   "cell_type": "code",
   "execution_count": null,
   "metadata": {},
   "outputs": [],
   "source": [
    "a = student(name = 'Alice')\n",
    "b = student(name = 'Bob')\n",
    "c = student(name = 'Charlie')\n",
    "\n",
    "print(a.__class__.count)\n",
    "print(b.__class__.count)\n",
    "print(c.__class__.count)"
   ]
  },
  {
   "cell_type": "code",
   "execution_count": null,
   "metadata": {},
   "outputs": [],
   "source": [
    "class student:\n",
    "\n",
    "    # a regular class attribute\n",
    "    count = 0\n",
    "\n",
    "    # a secret class attribute!\n",
    "    __max_capacity = 20\n",
    "\n",
    "    def __init__(self, name, surname=''):\n",
    "        # ...\n",
    "        self.__class__.count += 1\n",
    "\n",
    "    def __alert(self, __count):\n",
    "        if count > __max_capacity:\n",
    "            print('Class is overbooked!')"
   ]
  },
  {
   "cell_type": "code",
   "execution_count": null,
   "metadata": {},
   "outputs": [],
   "source": [
    "class geolocated_temp(temperature):\n",
    "    \n",
    "    def __init__(self, date, value = 0, system = 'C', \n",
    "                 place = {'N':\"51°31'19.8\", 'W':\"0°07'51.4\"}):\n",
    "        # run the 'inherited' constructor\n",
    "        temperature.__init__(self, date, value, system)\n",
    "        \n",
    "        # additionally, set up the place\n",
    "        # default location: Birkbeck main building\n",
    "        self.place = place"
   ]
  },
  {
   "cell_type": "code",
   "execution_count": null,
   "metadata": {},
   "outputs": [],
   "source": [
    "temp_office = geolocated_temp(5)"
   ]
  },
  {
   "cell_type": "code",
   "execution_count": null,
   "metadata": {},
   "outputs": [],
   "source": [
    "new_temp = temperature(value = 20)\n",
    "\n",
    "print(new_temp.__doc__)\n",
    "\n",
    "another_temp = new_temp.__class__(value = 30)\n",
    "\n",
    "print(new_temp.__module__)\n",
    "\n",
    "print(new_temp.__dict__)"
   ]
  },
  {
   "cell_type": "markdown",
   "metadata": {},
   "source": [
    "#### Inheriting the constructor function\n",
    "\n",
    "With `super().__init__()` we can deploy the same `init` if the original class (the Superclass)\n",
    "\n",
    "This solution, apart from saving code effort, makes our derived class more modular and reusable"
   ]
  },
  {
   "cell_type": "code",
   "execution_count": null,
   "metadata": {},
   "outputs": [],
   "source": [
    "class Publication:\n",
    "    def __init__(self, title, price):\n",
    "        self.title = title\n",
    "        self.price = price"
   ]
  },
  {
   "cell_type": "code",
   "execution_count": null,
   "metadata": {},
   "outputs": [],
   "source": [
    "class Book(Publication): #here I am inheriting from the publication Superclass\n",
    "    def __init__(self, title, author,pages,price):\n",
    "        super().__init__(title, price)\n",
    "        self.author = author\n",
    "        self.pages = pages"
   ]
  },
  {
   "cell_type": "markdown",
   "metadata": {},
   "source": [
    "#### Exercise: Create a class named 'Periodical' that inherits from Publication with an additional attribute: publisher"
   ]
  },
  {
   "cell_type": "code",
   "execution_count": null,
   "metadata": {},
   "outputs": [],
   "source": []
  }
 ],
 "metadata": {
  "kernelspec": {
   "display_name": "Python 3",
   "language": "python",
   "name": "python3"
  },
  "language_info": {
   "codemirror_mode": {
    "name": "ipython",
    "version": 3
   },
   "file_extension": ".py",
   "mimetype": "text/x-python",
   "name": "python",
   "nbconvert_exporter": "python",
   "pygments_lexer": "ipython3",
   "version": "3.12.6"
  }
 },
 "nbformat": 4,
 "nbformat_minor": 2
}
